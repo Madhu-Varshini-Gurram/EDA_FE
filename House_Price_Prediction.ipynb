{
 "cells": [
  {
   "cell_type": "markdown",
   "id": "a9ca0bdc",
   "metadata": {},
   "source": [
    "### Import Libraries"
   ]
  },
  {
   "cell_type": "code",
   "execution_count": 62,
   "id": "0ec1e5dc",
   "metadata": {},
   "outputs": [],
   "source": [
    "import numpy as np\n",
    "import pandas as pd\n",
    "import matplotlib.pyplot as plt\n",
    "import seaborn as sns"
   ]
  },
  {
   "cell_type": "markdown",
   "id": "814c828e",
   "metadata": {},
   "source": [
    "### Read Dataset"
   ]
  },
  {
   "cell_type": "code",
   "execution_count": 63,
   "id": "dfe6a379",
   "metadata": {},
   "outputs": [
    {
     "data": {
      "text/html": [
       "<div>\n",
       "<style scoped>\n",
       "    .dataframe tbody tr th:only-of-type {\n",
       "        vertical-align: middle;\n",
       "    }\n",
       "\n",
       "    .dataframe tbody tr th {\n",
       "        vertical-align: top;\n",
       "    }\n",
       "\n",
       "    .dataframe thead th {\n",
       "        text-align: right;\n",
       "    }\n",
       "</style>\n",
       "<table border=\"1\" class=\"dataframe\">\n",
       "  <thead>\n",
       "    <tr style=\"text-align: right;\">\n",
       "      <th></th>\n",
       "      <th>area_type</th>\n",
       "      <th>availability</th>\n",
       "      <th>location</th>\n",
       "      <th>size</th>\n",
       "      <th>society</th>\n",
       "      <th>total_sqft</th>\n",
       "      <th>bath</th>\n",
       "      <th>balcony</th>\n",
       "      <th>price</th>\n",
       "    </tr>\n",
       "  </thead>\n",
       "  <tbody>\n",
       "    <tr>\n",
       "      <th>0</th>\n",
       "      <td>Super built-up  Area</td>\n",
       "      <td>19-Dec</td>\n",
       "      <td>Electronic City Phase II</td>\n",
       "      <td>2 BHK</td>\n",
       "      <td>Coomee</td>\n",
       "      <td>1056</td>\n",
       "      <td>2.0</td>\n",
       "      <td>1.0</td>\n",
       "      <td>39.07</td>\n",
       "    </tr>\n",
       "    <tr>\n",
       "      <th>1</th>\n",
       "      <td>Plot  Area</td>\n",
       "      <td>Ready To Move</td>\n",
       "      <td>Chikka Tirupathi</td>\n",
       "      <td>4 Bedroom</td>\n",
       "      <td>Theanmp</td>\n",
       "      <td>2600</td>\n",
       "      <td>5.0</td>\n",
       "      <td>3.0</td>\n",
       "      <td>120.00</td>\n",
       "    </tr>\n",
       "    <tr>\n",
       "      <th>2</th>\n",
       "      <td>Built-up  Area</td>\n",
       "      <td>Ready To Move</td>\n",
       "      <td>Uttarahalli</td>\n",
       "      <td>3 BHK</td>\n",
       "      <td>NaN</td>\n",
       "      <td>1440</td>\n",
       "      <td>2.0</td>\n",
       "      <td>3.0</td>\n",
       "      <td>62.00</td>\n",
       "    </tr>\n",
       "    <tr>\n",
       "      <th>3</th>\n",
       "      <td>Super built-up  Area</td>\n",
       "      <td>Ready To Move</td>\n",
       "      <td>Lingadheeranahalli</td>\n",
       "      <td>3 BHK</td>\n",
       "      <td>Soiewre</td>\n",
       "      <td>1521</td>\n",
       "      <td>3.0</td>\n",
       "      <td>1.0</td>\n",
       "      <td>95.00</td>\n",
       "    </tr>\n",
       "    <tr>\n",
       "      <th>4</th>\n",
       "      <td>Super built-up  Area</td>\n",
       "      <td>Ready To Move</td>\n",
       "      <td>Kothanur</td>\n",
       "      <td>2 BHK</td>\n",
       "      <td>NaN</td>\n",
       "      <td>1200</td>\n",
       "      <td>2.0</td>\n",
       "      <td>1.0</td>\n",
       "      <td>51.00</td>\n",
       "    </tr>\n",
       "  </tbody>\n",
       "</table>\n",
       "</div>"
      ],
      "text/plain": [
       "              area_type   availability                  location       size  \\\n",
       "0  Super built-up  Area         19-Dec  Electronic City Phase II      2 BHK   \n",
       "1            Plot  Area  Ready To Move          Chikka Tirupathi  4 Bedroom   \n",
       "2        Built-up  Area  Ready To Move               Uttarahalli      3 BHK   \n",
       "3  Super built-up  Area  Ready To Move        Lingadheeranahalli      3 BHK   \n",
       "4  Super built-up  Area  Ready To Move                  Kothanur      2 BHK   \n",
       "\n",
       "   society total_sqft  bath  balcony   price  \n",
       "0  Coomee        1056   2.0      1.0   39.07  \n",
       "1  Theanmp       2600   5.0      3.0  120.00  \n",
       "2      NaN       1440   2.0      3.0   62.00  \n",
       "3  Soiewre       1521   3.0      1.0   95.00  \n",
       "4      NaN       1200   2.0      1.0   51.00  "
      ]
     },
     "execution_count": 63,
     "metadata": {},
     "output_type": "execute_result"
    }
   ],
   "source": [
    "df=pd.read_csv('bengaluru_house_prices.csv')\n",
    "df.head()"
   ]
  },
  {
   "cell_type": "markdown",
   "id": "504a451b",
   "metadata": {},
   "source": [
    "### EDA"
   ]
  },
  {
   "cell_type": "code",
   "execution_count": 64,
   "id": "9d7d8929",
   "metadata": {},
   "outputs": [
    {
     "data": {
      "text/plain": [
       "RangeIndex(start=0, stop=13320, step=1)"
      ]
     },
     "execution_count": 64,
     "metadata": {},
     "output_type": "execute_result"
    }
   ],
   "source": [
    "df.index"
   ]
  },
  {
   "cell_type": "code",
   "execution_count": 65,
   "metadata": {},
   "outputs": [
    {
     "data": {
      "text/plain": [
       "Index(['area_type', 'availability', 'location', 'size', 'society',\n",
       "       'total_sqft', 'bath', 'balcony', 'price'],\n",
       "      dtype='object')"
      ]
     },
     "execution_count": 65,
     "metadata": {},
     "output_type": "execute_result"
    }
   ],
   "source": [
    "df.columns"
   ]
  },
  {
   "cell_type": "code",
   "execution_count": 66,
   "id": "6b9099ea",
   "metadata": {},
   "outputs": [
    {
     "data": {
      "text/plain": [
       "(13320, 9)"
      ]
     },
     "execution_count": 66,
     "metadata": {},
     "output_type": "execute_result"
    }
   ],
   "source": [
    "df.shape"
   ]
  },
  {
   "cell_type": "code",
   "execution_count": 67,
   "metadata": {},
   "outputs": [
    {
     "name": "stdout",
     "output_type": "stream",
     "text": [
      "<class 'pandas.core.frame.DataFrame'>\n",
      "RangeIndex: 13320 entries, 0 to 13319\n",
      "Data columns (total 9 columns):\n",
      " #   Column        Non-Null Count  Dtype  \n",
      "---  ------        --------------  -----  \n",
      " 0   area_type     13320 non-null  object \n",
      " 1   availability  13320 non-null  object \n",
      " 2   location      13319 non-null  object \n",
      " 3   size          13304 non-null  object \n",
      " 4   society       7818 non-null   object \n",
      " 5   total_sqft    13320 non-null  object \n",
      " 6   bath          13247 non-null  float64\n",
      " 7   balcony       12711 non-null  float64\n",
      " 8   price         13320 non-null  float64\n",
      "dtypes: float64(3), object(6)\n",
      "memory usage: 936.7+ KB\n"
     ]
    }
   ],
   "source": [
    "df.info()"
   ]
  },
  {
   "cell_type": "code",
   "execution_count": 68,
   "metadata": {},
   "outputs": [
    {
     "data": {
      "text/html": [
       "<div>\n",
       "<style scoped>\n",
       "    .dataframe tbody tr th:only-of-type {\n",
       "        vertical-align: middle;\n",
       "    }\n",
       "\n",
       "    .dataframe tbody tr th {\n",
       "        vertical-align: top;\n",
       "    }\n",
       "\n",
       "    .dataframe thead th {\n",
       "        text-align: right;\n",
       "    }\n",
       "</style>\n",
       "<table border=\"1\" class=\"dataframe\">\n",
       "  <thead>\n",
       "    <tr style=\"text-align: right;\">\n",
       "      <th></th>\n",
       "      <th>bath</th>\n",
       "      <th>balcony</th>\n",
       "      <th>price</th>\n",
       "    </tr>\n",
       "  </thead>\n",
       "  <tbody>\n",
       "    <tr>\n",
       "      <th>count</th>\n",
       "      <td>13247.000000</td>\n",
       "      <td>12711.000000</td>\n",
       "      <td>13320.000000</td>\n",
       "    </tr>\n",
       "    <tr>\n",
       "      <th>mean</th>\n",
       "      <td>2.692610</td>\n",
       "      <td>1.584376</td>\n",
       "      <td>112.565627</td>\n",
       "    </tr>\n",
       "    <tr>\n",
       "      <th>std</th>\n",
       "      <td>1.341458</td>\n",
       "      <td>0.817263</td>\n",
       "      <td>148.971674</td>\n",
       "    </tr>\n",
       "    <tr>\n",
       "      <th>min</th>\n",
       "      <td>1.000000</td>\n",
       "      <td>0.000000</td>\n",
       "      <td>8.000000</td>\n",
       "    </tr>\n",
       "    <tr>\n",
       "      <th>25%</th>\n",
       "      <td>2.000000</td>\n",
       "      <td>1.000000</td>\n",
       "      <td>50.000000</td>\n",
       "    </tr>\n",
       "    <tr>\n",
       "      <th>50%</th>\n",
       "      <td>2.000000</td>\n",
       "      <td>2.000000</td>\n",
       "      <td>72.000000</td>\n",
       "    </tr>\n",
       "    <tr>\n",
       "      <th>75%</th>\n",
       "      <td>3.000000</td>\n",
       "      <td>2.000000</td>\n",
       "      <td>120.000000</td>\n",
       "    </tr>\n",
       "    <tr>\n",
       "      <th>max</th>\n",
       "      <td>40.000000</td>\n",
       "      <td>3.000000</td>\n",
       "      <td>3600.000000</td>\n",
       "    </tr>\n",
       "  </tbody>\n",
       "</table>\n",
       "</div>"
      ],
      "text/plain": [
       "               bath       balcony         price\n",
       "count  13247.000000  12711.000000  13320.000000\n",
       "mean       2.692610      1.584376    112.565627\n",
       "std        1.341458      0.817263    148.971674\n",
       "min        1.000000      0.000000      8.000000\n",
       "25%        2.000000      1.000000     50.000000\n",
       "50%        2.000000      2.000000     72.000000\n",
       "75%        3.000000      2.000000    120.000000\n",
       "max       40.000000      3.000000   3600.000000"
      ]
     },
     "execution_count": 68,
     "metadata": {},
     "output_type": "execute_result"
    }
   ],
   "source": [
    "df.describe()"
   ]
  },
  {
   "cell_type": "code",
   "execution_count": 69,
   "id": "6bd7ba86",
   "metadata": {},
   "outputs": [
    {
     "data": {
      "image/png": "[encoded data removed]",
      "text/plain": [
       "<Figure size 1000x500 with 1 Axes>"
      ]
     },
     "metadata": {},
     "output_type": "display_data"
    }
   ],
   "source": [
    "plt.figure(figsize=(10, 5))\n",
    "plt.scatter(df['bath'], df['price'], alpha=0.5)\n",
    "plt.title('Scatter Plot of Bath vs Price')\n",
    "plt.xlabel('Bath')\n",
    "plt.ylabel('Price')\n",
    "plt.grid(True)\n",
    "plt.show()"
   ]
  },
  {
   "cell_type": "code",
   "execution_count": 70,
   "id": "185e39aa",
   "metadata": {},
   "outputs": [
    {
     "data": {
      "image/png": "[encoded data removed]",
      "text/plain": [
       "<Figure size 1000x800 with 1 Axes>"
      ]
     },
     "metadata": {},
     "output_type": "display_data"
    }
   ],
   "source": [
    "plt.figure(figsize=(10, 8))\n",
    "plt.scatter(df['balcony'], df['price'], alpha=0.5)\n",
    "plt.title('Scatter Plot of Balcony vs Price')\n",
    "plt.xlabel('Balcony')\n",
    "plt.ylabel('Price')\n",
    "plt.grid(True)\n",
    "plt.show()"
   ]
  },
  {
   "cell_type": "code",
   "execution_count": 71,
   "id": "a3245ff7",
   "metadata": {},
   "outputs": [
    {
     "data": {
      "image/png": "[encoded data removed]",
      "text/plain": [
       "<Figure size 640x480 with 1 Axes>"
      ]
     },
     "metadata": {},
     "output_type": "display_data"
    }
   ],
   "source": [
    "sns.heatmap(df.isnull(), cbar=False, cmap='viridis')\n",
    "plt.title('Missing Values Heatmap')\n",
    "plt.show()"
   ]
  },
  {
   "cell_type": "code",
   "execution_count": 72,
   "id": "e9969221",
   "metadata": {},
   "outputs": [
    {
     "data": {
      "image/png": "[encoded data removed]",
      "text/plain": [
       "<Figure size 640x480 with 1 Axes>"
      ]
     },
     "metadata": {},
     "output_type": "display_data"
    }
   ],
   "source": [
    "sns.countplot(x='area_type', data=df)\n",
    "plt.title('Count of Properties by Area Type')\n",
    "plt.xticks(rotation=45)\n",
    "plt.show()"
   ]
  },
  {
   "cell_type": "code",
   "execution_count": 73,
   "id": "f2636fb7",
   "metadata": {},
   "outputs": [
    {
     "data": {
      "image/png": "[encoded data removed]",
      "text/plain": [
       "<Figure size 640x480 with 1 Axes>"
      ]
     },
     "metadata": {},
     "output_type": "display_data"
    }
   ],
   "source": [
    "plt.subplot(2, 2, 3)\n",
    "sns.histplot(df['bath'], kde=True)\n",
    "plt.title('Distribution of Bathrooms')\n",
    "plt.show()"
   ]
  },
  {
   "cell_type": "code",
   "execution_count": 74,
   "id": "3432edfc",
   "metadata": {},
   "outputs": [
    {
     "data": {
      "image/png": "[encoded data removed]",
      "text/plain": [
       "<Figure size 640x480 with 1 Axes>"
      ]
     },
     "metadata": {},
     "output_type": "display_data"
    }
   ],
   "source": [
    "sns.histplot(df['price'], kde=True)\n",
    "plt.title('Distribution of Price')\n",
    "plt.show()"
   ]
  },
  {
   "cell_type": "code",
   "execution_count": 75,
   "id": "b231b884",
   "metadata": {},
   "outputs": [
    {
     "data": {
      "image/png": "[encoded data removed]",
      "text/plain": [
       "<Figure size 750x750 with 12 Axes>"
      ]
     },
     "metadata": {},
     "output_type": "display_data"
    }
   ],
   "source": [
    "sns.pairplot(df)\n",
    "plt.show()"
   ]
  },
  {
   "cell_type": "code",
   "execution_count": 76,
   "id": "dbe82ec2",
   "metadata": {},
   "outputs": [
    {
     "name": "stdout",
     "output_type": "stream",
     "text": [
      "<class 'pandas.core.frame.DataFrame'>\n",
      "RangeIndex: 13320 entries, 0 to 13319\n",
      "Data columns (total 9 columns):\n",
      " #   Column        Non-Null Count  Dtype  \n",
      "---  ------        --------------  -----  \n",
      " 0   area_type     13320 non-null  object \n",
      " 1   availability  13320 non-null  object \n",
      " 2   location      13319 non-null  object \n",
      " 3   size          13304 non-null  object \n",
      " 4   society       7818 non-null   object \n",
      " 5   total_sqft    13320 non-null  object \n",
      " 6   bath          13247 non-null  float64\n",
      " 7   balcony       12711 non-null  float64\n",
      " 8   price         13320 non-null  float64\n",
      "dtypes: float64(3), object(6)\n",
      "memory usage: 936.7+ KB\n"
     ]
    }
   ],
   "source": [
    "df.info()"
   ]
  },
  {
   "cell_type": "code",
   "execution_count": 77,
   "id": "72a1a712",
   "metadata": {},
   "outputs": [
    {
     "data": {
      "text/html": [
       "<div>\n",
       "<style scoped>\n",
       "    .dataframe tbody tr th:only-of-type {\n",
       "        vertical-align: middle;\n",
       "    }\n",
       "\n",
       "    .dataframe tbody tr th {\n",
       "        vertical-align: top;\n",
       "    }\n",
       "\n",
       "    .dataframe thead th {\n",
       "        text-align: right;\n",
       "    }\n",
       "</style>\n",
       "<table border=\"1\" class=\"dataframe\">\n",
       "  <thead>\n",
       "    <tr style=\"text-align: right;\">\n",
       "      <th></th>\n",
       "      <th>area_type</th>\n",
       "      <th>availability</th>\n",
       "      <th>location</th>\n",
       "      <th>size</th>\n",
       "      <th>society</th>\n",
       "      <th>total_sqft</th>\n",
       "      <th>bath</th>\n",
       "      <th>balcony</th>\n",
       "      <th>price</th>\n",
       "    </tr>\n",
       "  </thead>\n",
       "  <tbody>\n",
       "    <tr>\n",
       "      <th>0</th>\n",
       "      <td>Super built-up  Area</td>\n",
       "      <td>19-Dec</td>\n",
       "      <td>Electronic City Phase II</td>\n",
       "      <td>2 BHK</td>\n",
       "      <td>Coomee</td>\n",
       "      <td>1056</td>\n",
       "      <td>2.0</td>\n",
       "      <td>1.0</td>\n",
       "      <td>39.07</td>\n",
       "    </tr>\n",
       "    <tr>\n",
       "      <th>1</th>\n",
       "      <td>Plot  Area</td>\n",
       "      <td>Ready To Move</td>\n",
       "      <td>Chikka Tirupathi</td>\n",
       "      <td>4 Bedroom</td>\n",
       "      <td>Theanmp</td>\n",
       "      <td>2600</td>\n",
       "      <td>5.0</td>\n",
       "      <td>3.0</td>\n",
       "      <td>120.00</td>\n",
       "    </tr>\n",
       "    <tr>\n",
       "      <th>2</th>\n",
       "      <td>Built-up  Area</td>\n",
       "      <td>Ready To Move</td>\n",
       "      <td>Uttarahalli</td>\n",
       "      <td>3 BHK</td>\n",
       "      <td>NaN</td>\n",
       "      <td>1440</td>\n",
       "      <td>2.0</td>\n",
       "      <td>3.0</td>\n",
       "      <td>62.00</td>\n",
       "    </tr>\n",
       "    <tr>\n",
       "      <th>3</th>\n",
       "      <td>Super built-up  Area</td>\n",
       "      <td>Ready To Move</td>\n",
       "      <td>Lingadheeranahalli</td>\n",
       "      <td>3 BHK</td>\n",
       "      <td>Soiewre</td>\n",
       "      <td>1521</td>\n",
       "      <td>3.0</td>\n",
       "      <td>1.0</td>\n",
       "      <td>95.00</td>\n",
       "    </tr>\n",
       "    <tr>\n",
       "      <th>4</th>\n",
       "      <td>Super built-up  Area</td>\n",
       "      <td>Ready To Move</td>\n",
       "      <td>Kothanur</td>\n",
       "      <td>2 BHK</td>\n",
       "      <td>NaN</td>\n",
       "      <td>1200</td>\n",
       "      <td>2.0</td>\n",
       "      <td>1.0</td>\n",
       "      <td>51.00</td>\n",
       "    </tr>\n",
       "  </tbody>\n",
       "</table>\n",
       "</div>"
      ],
      "text/plain": [
       "              area_type   availability                  location       size  \\\n",
       "0  Super built-up  Area         19-Dec  Electronic City Phase II      2 BHK   \n",
       "1            Plot  Area  Ready To Move          Chikka Tirupathi  4 Bedroom   \n",
       "2        Built-up  Area  Ready To Move               Uttarahalli      3 BHK   \n",
       "3  Super built-up  Area  Ready To Move        Lingadheeranahalli      3 BHK   \n",
       "4  Super built-up  Area  Ready To Move                  Kothanur      2 BHK   \n",
       "\n",
       "   society total_sqft  bath  balcony   price  \n",
       "0  Coomee        1056   2.0      1.0   39.07  \n",
       "1  Theanmp       2600   5.0      3.0  120.00  \n",
       "2      NaN       1440   2.0      3.0   62.00  \n",
       "3  Soiewre       1521   3.0      1.0   95.00  \n",
       "4      NaN       1200   2.0      1.0   51.00  "
      ]
     },
     "execution_count": 77,
     "metadata": {},
     "output_type": "execute_result"
    }
   ],
   "source": [
    "df.head()"
   ]
  },
  {
   "cell_type": "code",
   "execution_count": 78,
   "metadata": {},
   "outputs": [
    {
     "data": {
      "text/plain": [
       "area_type          0\n",
       "availability       0\n",
       "location           1\n",
       "size              16\n",
       "society         5502\n",
       "total_sqft         0\n",
       "bath              73\n",
       "balcony          609\n",
       "price              0\n",
       "dtype: int64"
      ]
     },
     "execution_count": 78,
     "metadata": {},
     "output_type": "execute_result"
    }
   ],
   "source": [
    "df.isnull().sum()"
   ]
  },
  {
   "cell_type": "code",
   "execution_count": 79,
   "id": "86b72918",
   "metadata": {},
   "outputs": [
    {
     "data": {
      "text/html": [
       "<div>\n",
       "<style scoped>\n",
       "    .dataframe tbody tr th:only-of-type {\n",
       "        vertical-align: middle;\n",
       "    }\n",
       "\n",
       "    .dataframe tbody tr th {\n",
       "        vertical-align: top;\n",
       "    }\n",
       "\n",
       "    .dataframe thead th {\n",
       "        text-align: right;\n",
       "    }\n",
       "</style>\n",
       "<table border=\"1\" class=\"dataframe\">\n",
       "  <thead>\n",
       "    <tr style=\"text-align: right;\">\n",
       "      <th></th>\n",
       "      <th>area_type</th>\n",
       "      <th>availability</th>\n",
       "      <th>location</th>\n",
       "      <th>size</th>\n",
       "      <th>society</th>\n",
       "      <th>total_sqft</th>\n",
       "      <th>bath</th>\n",
       "      <th>balcony</th>\n",
       "      <th>price</th>\n",
       "    </tr>\n",
       "  </thead>\n",
       "  <tbody>\n",
       "    <tr>\n",
       "      <th>568</th>\n",
       "      <td>Super built-up  Area</td>\n",
       "      <td>Ready To Move</td>\n",
       "      <td>NaN</td>\n",
       "      <td>3 BHK</td>\n",
       "      <td>Grare S</td>\n",
       "      <td>1600</td>\n",
       "      <td>3.0</td>\n",
       "      <td>2.0</td>\n",
       "      <td>86.0</td>\n",
       "    </tr>\n",
       "  </tbody>\n",
       "</table>\n",
       "</div>"
      ],
      "text/plain": [
       "                area_type   availability location   size  society total_sqft  \\\n",
       "568  Super built-up  Area  Ready To Move      NaN  3 BHK  Grare S       1600   \n",
       "\n",
       "     bath  balcony  price  \n",
       "568   3.0      2.0   86.0  "
      ]
     },
     "execution_count": 79,
     "metadata": {},
     "output_type": "execute_result"
    }
   ],
   "source": [
    "df[df['location'].isnull()]"
   ]
  },
  {
   "cell_type": "code",
   "execution_count": 80,
   "metadata": {},
   "outputs": [],
   "source": [
    "df.dropna(subset=['location'],inplace=True)"
   ]
  },
  {
   "cell_type": "code",
   "execution_count": 81,
   "metadata": {},
   "outputs": [
    {
     "data": {
      "text/html": [
       "<div>\n",
       "<style scoped>\n",
       "    .dataframe tbody tr th:only-of-type {\n",
       "        vertical-align: middle;\n",
       "    }\n",
       "\n",
       "    .dataframe tbody tr th {\n",
       "        vertical-align: top;\n",
       "    }\n",
       "\n",
       "    .dataframe thead th {\n",
       "        text-align: right;\n",
       "    }\n",
       "</style>\n",
       "<table border=\"1\" class=\"dataframe\">\n",
       "  <thead>\n",
       "    <tr style=\"text-align: right;\">\n",
       "      <th></th>\n",
       "      <th>area_type</th>\n",
       "      <th>availability</th>\n",
       "      <th>location</th>\n",
       "      <th>size</th>\n",
       "      <th>society</th>\n",
       "      <th>total_sqft</th>\n",
       "      <th>bath</th>\n",
       "      <th>balcony</th>\n",
       "      <th>price</th>\n",
       "    </tr>\n",
       "  </thead>\n",
       "  <tbody>\n",
       "  </tbody>\n",
       "</table>\n",
       "</div>"
      ],
      "text/plain": [
       "Empty DataFrame\n",
       "Columns: [area_type, availability, location, size, society, total_sqft, bath, balcony, price]\n",
       "Index: []"
      ]
     },
     "execution_count": 81,
     "metadata": {},
     "output_type": "execute_result"
    }
   ],
   "source": [
    "df[df['location'].isnull()]"
   ]
  },
  {
   "cell_type": "code",
   "execution_count": 82,
   "id": "86d5ae8d",
   "metadata": {},
   "outputs": [
    {
     "name": "stdout",
     "output_type": "stream",
     "text": [
      "<class 'pandas.core.frame.DataFrame'>\n",
      "Index: 13319 entries, 0 to 13319\n",
      "Data columns (total 9 columns):\n",
      " #   Column        Non-Null Count  Dtype  \n",
      "---  ------        --------------  -----  \n",
      " 0   area_type     13319 non-null  object \n",
      " 1   availability  13319 non-null  object \n",
      " 2   location      13319 non-null  object \n",
      " 3   size          13303 non-null  object \n",
      " 4   society       7817 non-null   object \n",
      " 5   total_sqft    13319 non-null  object \n",
      " 6   bath          13246 non-null  float64\n",
      " 7   balcony       12710 non-null  float64\n",
      " 8   price         13319 non-null  float64\n",
      "dtypes: float64(3), object(6)\n",
      "memory usage: 1.0+ MB\n"
     ]
    }
   ],
   "source": [
    "df.info()"
   ]
  },
  {
   "cell_type": "code",
   "execution_count": 83,
   "id": "d8d18c00",
   "metadata": {},
   "outputs": [
    {
     "data": {
      "text/plain": [
       "array(['2 BHK', '4 Bedroom', '3 BHK', '4 BHK', '6 Bedroom', '3 Bedroom',\n",
       "       '1 BHK', '1 RK', '1 Bedroom', '8 Bedroom', '2 Bedroom',\n",
       "       '7 Bedroom', '5 BHK', '7 BHK', '6 BHK', '5 Bedroom', '11 BHK',\n",
       "       '9 BHK', nan, '9 Bedroom', '27 BHK', '10 Bedroom', '11 Bedroom',\n",
       "       '10 BHK', '19 BHK', '16 BHK', '43 Bedroom', '14 BHK', '8 BHK',\n",
       "       '12 Bedroom', '13 BHK', '18 Bedroom'], dtype=object)"
      ]
     },
     "execution_count": 83,
     "metadata": {},
     "output_type": "execute_result"
    }
   ],
   "source": [
    "df['size'].unique()"
   ]
  },
  {
   "cell_type": "markdown",
   "id": "af7a4f76",
   "metadata": {},
   "source": [
    "### Feature Engineering"
   ]
  },
  {
   "cell_type": "code",
   "execution_count": 84,
   "id": "6c7bd3f4",
   "metadata": {},
   "outputs": [
    {
     "data": {
      "text/html": [
       "<div>\n",
       "<style scoped>\n",
       "    .dataframe tbody tr th:only-of-type {\n",
       "        vertical-align: middle;\n",
       "    }\n",
       "\n",
       "    .dataframe tbody tr th {\n",
       "        vertical-align: top;\n",
       "    }\n",
       "\n",
       "    .dataframe thead th {\n",
       "        text-align: right;\n",
       "    }\n",
       "</style>\n",
       "<table border=\"1\" class=\"dataframe\">\n",
       "  <thead>\n",
       "    <tr style=\"text-align: right;\">\n",
       "      <th></th>\n",
       "      <th>area_type</th>\n",
       "      <th>availability</th>\n",
       "      <th>location</th>\n",
       "      <th>size</th>\n",
       "      <th>society</th>\n",
       "      <th>total_sqft</th>\n",
       "      <th>bath</th>\n",
       "      <th>balcony</th>\n",
       "      <th>price</th>\n",
       "    </tr>\n",
       "  </thead>\n",
       "  <tbody>\n",
       "    <tr>\n",
       "      <th>579</th>\n",
       "      <td>Plot  Area</td>\n",
       "      <td>Immediate Possession</td>\n",
       "      <td>Sarjapur  Road</td>\n",
       "      <td>NaN</td>\n",
       "      <td>Asiss B</td>\n",
       "      <td>1200 - 2400</td>\n",
       "      <td>NaN</td>\n",
       "      <td>NaN</td>\n",
       "      <td>34.185</td>\n",
       "    </tr>\n",
       "    <tr>\n",
       "      <th>1775</th>\n",
       "      <td>Plot  Area</td>\n",
       "      <td>Immediate Possession</td>\n",
       "      <td>IVC Road</td>\n",
       "      <td>NaN</td>\n",
       "      <td>Orana N</td>\n",
       "      <td>2000 - 5634</td>\n",
       "      <td>NaN</td>\n",
       "      <td>NaN</td>\n",
       "      <td>124.000</td>\n",
       "    </tr>\n",
       "    <tr>\n",
       "      <th>2264</th>\n",
       "      <td>Plot  Area</td>\n",
       "      <td>Immediate Possession</td>\n",
       "      <td>Banashankari</td>\n",
       "      <td>NaN</td>\n",
       "      <td>NaN</td>\n",
       "      <td>2400</td>\n",
       "      <td>NaN</td>\n",
       "      <td>NaN</td>\n",
       "      <td>460.000</td>\n",
       "    </tr>\n",
       "    <tr>\n",
       "      <th>2809</th>\n",
       "      <td>Plot  Area</td>\n",
       "      <td>Immediate Possession</td>\n",
       "      <td>Sarjapur  Road</td>\n",
       "      <td>NaN</td>\n",
       "      <td>AsdiaAr</td>\n",
       "      <td>1200 - 2400</td>\n",
       "      <td>NaN</td>\n",
       "      <td>NaN</td>\n",
       "      <td>28.785</td>\n",
       "    </tr>\n",
       "    <tr>\n",
       "      <th>2862</th>\n",
       "      <td>Plot  Area</td>\n",
       "      <td>Immediate Possession</td>\n",
       "      <td>Devanahalli</td>\n",
       "      <td>NaN</td>\n",
       "      <td>Ajleyor</td>\n",
       "      <td>1500 - 2400</td>\n",
       "      <td>NaN</td>\n",
       "      <td>NaN</td>\n",
       "      <td>46.800</td>\n",
       "    </tr>\n",
       "    <tr>\n",
       "      <th>5333</th>\n",
       "      <td>Plot  Area</td>\n",
       "      <td>Immediate Possession</td>\n",
       "      <td>Devanahalli</td>\n",
       "      <td>NaN</td>\n",
       "      <td>Emngs S</td>\n",
       "      <td>2100 - 5405</td>\n",
       "      <td>NaN</td>\n",
       "      <td>NaN</td>\n",
       "      <td>177.115</td>\n",
       "    </tr>\n",
       "    <tr>\n",
       "      <th>6423</th>\n",
       "      <td>Plot  Area</td>\n",
       "      <td>Immediate Possession</td>\n",
       "      <td>Whitefield</td>\n",
       "      <td>NaN</td>\n",
       "      <td>SRniaGa</td>\n",
       "      <td>2324</td>\n",
       "      <td>NaN</td>\n",
       "      <td>NaN</td>\n",
       "      <td>26.730</td>\n",
       "    </tr>\n",
       "    <tr>\n",
       "      <th>6636</th>\n",
       "      <td>Plot  Area</td>\n",
       "      <td>Immediate Possession</td>\n",
       "      <td>Jigani</td>\n",
       "      <td>NaN</td>\n",
       "      <td>S2enste</td>\n",
       "      <td>1500</td>\n",
       "      <td>NaN</td>\n",
       "      <td>NaN</td>\n",
       "      <td>25.490</td>\n",
       "    </tr>\n",
       "    <tr>\n",
       "      <th>6719</th>\n",
       "      <td>Plot  Area</td>\n",
       "      <td>Immediate Possession</td>\n",
       "      <td>Hoskote</td>\n",
       "      <td>NaN</td>\n",
       "      <td>SJowsn</td>\n",
       "      <td>800 - 2660</td>\n",
       "      <td>NaN</td>\n",
       "      <td>NaN</td>\n",
       "      <td>28.545</td>\n",
       "    </tr>\n",
       "    <tr>\n",
       "      <th>7680</th>\n",
       "      <td>Plot  Area</td>\n",
       "      <td>Immediate Possession</td>\n",
       "      <td>Kasavanhalli</td>\n",
       "      <td>NaN</td>\n",
       "      <td>NaN</td>\n",
       "      <td>5000</td>\n",
       "      <td>NaN</td>\n",
       "      <td>NaN</td>\n",
       "      <td>400.000</td>\n",
       "    </tr>\n",
       "    <tr>\n",
       "      <th>8306</th>\n",
       "      <td>Plot  Area</td>\n",
       "      <td>Immediate Possession</td>\n",
       "      <td>Anekal</td>\n",
       "      <td>NaN</td>\n",
       "      <td>Vaensnd</td>\n",
       "      <td>1453</td>\n",
       "      <td>NaN</td>\n",
       "      <td>NaN</td>\n",
       "      <td>16.500</td>\n",
       "    </tr>\n",
       "    <tr>\n",
       "      <th>8565</th>\n",
       "      <td>Plot  Area</td>\n",
       "      <td>Immediate Possession</td>\n",
       "      <td>Carmelaram</td>\n",
       "      <td>NaN</td>\n",
       "      <td>Ocezes</td>\n",
       "      <td>2000</td>\n",
       "      <td>NaN</td>\n",
       "      <td>NaN</td>\n",
       "      <td>120.000</td>\n",
       "    </tr>\n",
       "    <tr>\n",
       "      <th>8703</th>\n",
       "      <td>Plot  Area</td>\n",
       "      <td>Immediate Possession</td>\n",
       "      <td>Mysore Road</td>\n",
       "      <td>NaN</td>\n",
       "      <td>Naoden</td>\n",
       "      <td>1200 - 2400</td>\n",
       "      <td>NaN</td>\n",
       "      <td>NaN</td>\n",
       "      <td>42.300</td>\n",
       "    </tr>\n",
       "    <tr>\n",
       "      <th>10634</th>\n",
       "      <td>Plot  Area</td>\n",
       "      <td>Immediate Possession</td>\n",
       "      <td>Rajankunte</td>\n",
       "      <td>NaN</td>\n",
       "      <td>NaN</td>\n",
       "      <td>1575</td>\n",
       "      <td>NaN</td>\n",
       "      <td>NaN</td>\n",
       "      <td>31.110</td>\n",
       "    </tr>\n",
       "    <tr>\n",
       "      <th>11019</th>\n",
       "      <td>Plot  Area</td>\n",
       "      <td>Immediate Possession</td>\n",
       "      <td>Yelahanka</td>\n",
       "      <td>NaN</td>\n",
       "      <td>Saaveha</td>\n",
       "      <td>1200 - 1800</td>\n",
       "      <td>NaN</td>\n",
       "      <td>NaN</td>\n",
       "      <td>12.750</td>\n",
       "    </tr>\n",
       "    <tr>\n",
       "      <th>11569</th>\n",
       "      <td>Plot  Area</td>\n",
       "      <td>Immediate Possession</td>\n",
       "      <td>Hosur Road</td>\n",
       "      <td>NaN</td>\n",
       "      <td>AVeldun</td>\n",
       "      <td>1350</td>\n",
       "      <td>NaN</td>\n",
       "      <td>NaN</td>\n",
       "      <td>8.440</td>\n",
       "    </tr>\n",
       "  </tbody>\n",
       "</table>\n",
       "</div>"
      ],
      "text/plain": [
       "        area_type          availability        location size  society  \\\n",
       "579    Plot  Area  Immediate Possession  Sarjapur  Road  NaN  Asiss B   \n",
       "1775   Plot  Area  Immediate Possession        IVC Road  NaN  Orana N   \n",
       "2264   Plot  Area  Immediate Possession    Banashankari  NaN      NaN   \n",
       "2809   Plot  Area  Immediate Possession  Sarjapur  Road  NaN  AsdiaAr   \n",
       "2862   Plot  Area  Immediate Possession     Devanahalli  NaN  Ajleyor   \n",
       "5333   Plot  Area  Immediate Possession     Devanahalli  NaN  Emngs S   \n",
       "6423   Plot  Area  Immediate Possession      Whitefield  NaN  SRniaGa   \n",
       "6636   Plot  Area  Immediate Possession          Jigani  NaN  S2enste   \n",
       "6719   Plot  Area  Immediate Possession         Hoskote  NaN  SJowsn    \n",
       "7680   Plot  Area  Immediate Possession    Kasavanhalli  NaN      NaN   \n",
       "8306   Plot  Area  Immediate Possession          Anekal  NaN  Vaensnd   \n",
       "8565   Plot  Area  Immediate Possession      Carmelaram  NaN  Ocezes    \n",
       "8703   Plot  Area  Immediate Possession     Mysore Road  NaN  Naoden    \n",
       "10634  Plot  Area  Immediate Possession      Rajankunte  NaN      NaN   \n",
       "11019  Plot  Area  Immediate Possession       Yelahanka  NaN  Saaveha   \n",
       "11569  Plot  Area  Immediate Possession      Hosur Road  NaN  AVeldun   \n",
       "\n",
       "        total_sqft  bath  balcony    price  \n",
       "579    1200 - 2400   NaN      NaN   34.185  \n",
       "1775   2000 - 5634   NaN      NaN  124.000  \n",
       "2264          2400   NaN      NaN  460.000  \n",
       "2809   1200 - 2400   NaN      NaN   28.785  \n",
       "2862   1500 - 2400   NaN      NaN   46.800  \n",
       "5333   2100 - 5405   NaN      NaN  177.115  \n",
       "6423          2324   NaN      NaN   26.730  \n",
       "6636          1500   NaN      NaN   25.490  \n",
       "6719    800 - 2660   NaN      NaN   28.545  \n",
       "7680          5000   NaN      NaN  400.000  \n",
       "8306          1453   NaN      NaN   16.500  \n",
       "8565          2000   NaN      NaN  120.000  \n",
       "8703   1200 - 2400   NaN      NaN   42.300  \n",
       "10634         1575   NaN      NaN   31.110  \n",
       "11019  1200 - 1800   NaN      NaN   12.750  \n",
       "11569         1350   NaN      NaN    8.440  "
      ]
     },
     "execution_count": 84,
     "metadata": {},
     "output_type": "execute_result"
    }
   ],
   "source": [
    "df[df['size'].isnull()]"
   ]
  },
  {
   "cell_type": "code",
   "execution_count": 85,
   "id": "13716e51",
   "metadata": {},
   "outputs": [],
   "source": [
    "df.dropna(subset=['size'],inplace=True)"
   ]
  },
  {
   "cell_type": "code",
   "execution_count": 86,
   "metadata": {},
   "outputs": [
    {
     "data": {
      "text/plain": [
       "area_type          0\n",
       "availability       0\n",
       "location           0\n",
       "size               0\n",
       "society         5499\n",
       "total_sqft         0\n",
       "bath              57\n",
       "balcony          593\n",
       "price              0\n",
       "dtype: int64"
      ]
     },
     "execution_count": 86,
     "metadata": {},
     "output_type": "execute_result"
    }
   ],
   "source": [
    "df.isnull().sum()"
   ]
  },
  {
   "cell_type": "code",
   "execution_count": 87,
   "id": "c57efba8",
   "metadata": {},
   "outputs": [
    {
     "data": {
      "text/plain": [
       "array(['Coomee ', 'Theanmp', nan, ..., 'SJovest', 'ThhtsV ', 'RSntsAp'],\n",
       "      dtype=object)"
      ]
     },
     "execution_count": 87,
     "metadata": {},
     "output_type": "execute_result"
    }
   ],
   "source": [
    "df['society'].unique()"
   ]
  },
  {
   "cell_type": "code",
   "execution_count": 88,
   "id": "4cc05745",
   "metadata": {},
   "outputs": [],
   "source": [
    "df.dropna(subset=['society'],inplace=True)"
   ]
  },
  {
   "cell_type": "code",
   "execution_count": 89,
   "id": "272c2830",
   "metadata": {},
   "outputs": [
    {
     "data": {
      "text/html": [
       "<div>\n",
       "<style scoped>\n",
       "    .dataframe tbody tr th:only-of-type {\n",
       "        vertical-align: middle;\n",
       "    }\n",
       "\n",
       "    .dataframe tbody tr th {\n",
       "        vertical-align: top;\n",
       "    }\n",
       "\n",
       "    .dataframe thead th {\n",
       "        text-align: right;\n",
       "    }\n",
       "</style>\n",
       "<table border=\"1\" class=\"dataframe\">\n",
       "  <thead>\n",
       "    <tr style=\"text-align: right;\">\n",
       "      <th></th>\n",
       "      <th>area_type</th>\n",
       "      <th>availability</th>\n",
       "      <th>location</th>\n",
       "      <th>size</th>\n",
       "      <th>society</th>\n",
       "      <th>total_sqft</th>\n",
       "      <th>bath</th>\n",
       "      <th>balcony</th>\n",
       "      <th>price</th>\n",
       "    </tr>\n",
       "  </thead>\n",
       "  <tbody>\n",
       "  </tbody>\n",
       "</table>\n",
       "</div>"
      ],
      "text/plain": [
       "Empty DataFrame\n",
       "Columns: [area_type, availability, location, size, society, total_sqft, bath, balcony, price]\n",
       "Index: []"
      ]
     },
     "execution_count": 89,
     "metadata": {},
     "output_type": "execute_result"
    }
   ],
   "source": [
    "df[df['society'].isnull()]"
   ]
  },
  {
   "cell_type": "code",
   "execution_count": 90,
   "id": "de10be38",
   "metadata": {},
   "outputs": [
    {
     "data": {
      "text/plain": [
       "array([ 2.,  5.,  3.,  4.,  1., nan,  6.,  9.,  7., 14., 10., 18.])"
      ]
     },
     "execution_count": 90,
     "metadata": {},
     "output_type": "execute_result"
    }
   ],
   "source": [
    "df['bath'].unique()"
   ]
  },
  {
   "cell_type": "code",
   "execution_count": 91,
   "id": "bfcf1261",
   "metadata": {},
   "outputs": [],
   "source": [
    "df['bath'] = df['bath'].fillna(df['bath'].median())"
   ]
  },
  {
   "cell_type": "code",
   "execution_count": 92,
   "id": "75547ac2",
   "metadata": {},
   "outputs": [
    {
     "data": {
      "text/plain": [
       "array([ 2.,  5.,  3.,  4.,  1.,  6.,  9.,  7., 14., 10., 18.])"
      ]
     },
     "execution_count": 92,
     "metadata": {},
     "output_type": "execute_result"
    }
   ],
   "source": [
    "df['bath'].unique()"
   ]
  },
  {
   "cell_type": "code",
   "execution_count": 93,
   "id": "bab1b7ca",
   "metadata": {},
   "outputs": [
    {
     "name": "stdout",
     "output_type": "stream",
     "text": [
      "<class 'pandas.core.frame.DataFrame'>\n",
      "Index: 7804 entries, 0 to 13318\n",
      "Data columns (total 9 columns):\n",
      " #   Column        Non-Null Count  Dtype  \n",
      "---  ------        --------------  -----  \n",
      " 0   area_type     7804 non-null   object \n",
      " 1   availability  7804 non-null   object \n",
      " 2   location      7804 non-null   object \n",
      " 3   size          7804 non-null   object \n",
      " 4   society       7804 non-null   object \n",
      " 5   total_sqft    7804 non-null   object \n",
      " 6   bath          7804 non-null   float64\n",
      " 7   balcony       7496 non-null   float64\n",
      " 8   price         7804 non-null   float64\n",
      "dtypes: float64(3), object(6)\n",
      "memory usage: 609.7+ KB\n"
     ]
    }
   ],
   "source": [
    "df.info()"
   ]
  },
  {
   "cell_type": "code",
   "execution_count": 94,
   "id": "78218fb2",
   "metadata": {},
   "outputs": [
    {
     "data": {
      "text/plain": [
       "array([ 1.,  3., nan,  2.,  0.])"
      ]
     },
     "execution_count": 94,
     "metadata": {},
     "output_type": "execute_result"
    }
   ],
   "source": [
    "df['balcony'].unique()"
   ]
  },
  {
   "cell_type": "code",
   "execution_count": 95,
   "id": "ac67075e",
   "metadata": {},
   "outputs": [],
   "source": [
    "df['balcony']=df['balcony'].fillna(df['balcony'].median())"
   ]
  },
  {
   "cell_type": "code",
   "execution_count": 96,
   "id": "11f96f74",
   "metadata": {},
   "outputs": [
    {
     "data": {
      "text/plain": [
       "array([1., 3., 2., 0.])"
      ]
     },
     "execution_count": 96,
     "metadata": {},
     "output_type": "execute_result"
    }
   ],
   "source": [
    "df['balcony'].unique()"
   ]
  },
  {
   "cell_type": "code",
   "execution_count": 97,
   "id": "30f0a0e5",
   "metadata": {},
   "outputs": [
    {
     "data": {
      "text/html": [
       "<div>\n",
       "<style scoped>\n",
       "    .dataframe tbody tr th:only-of-type {\n",
       "        vertical-align: middle;\n",
       "    }\n",
       "\n",
       "    .dataframe tbody tr th {\n",
       "        vertical-align: top;\n",
       "    }\n",
       "\n",
       "    .dataframe thead th {\n",
       "        text-align: right;\n",
       "    }\n",
       "</style>\n",
       "<table border=\"1\" class=\"dataframe\">\n",
       "  <thead>\n",
       "    <tr style=\"text-align: right;\">\n",
       "      <th></th>\n",
       "      <th>area_type</th>\n",
       "      <th>availability</th>\n",
       "      <th>location</th>\n",
       "      <th>size</th>\n",
       "      <th>society</th>\n",
       "      <th>total_sqft</th>\n",
       "      <th>bath</th>\n",
       "      <th>balcony</th>\n",
       "      <th>price</th>\n",
       "    </tr>\n",
       "  </thead>\n",
       "  <tbody>\n",
       "  </tbody>\n",
       "</table>\n",
       "</div>"
      ],
      "text/plain": [
       "Empty DataFrame\n",
       "Columns: [area_type, availability, location, size, society, total_sqft, bath, balcony, price]\n",
       "Index: []"
      ]
     },
     "execution_count": 97,
     "metadata": {},
     "output_type": "execute_result"
    }
   ],
   "source": [
    "df[df['balcony'].isnull()]"
   ]
  },
  {
   "cell_type": "code",
   "execution_count": 98,
   "id": "bb09be5a",
   "metadata": {},
   "outputs": [
    {
     "data": {
      "text/plain": [
       "area_type       0\n",
       "availability    0\n",
       "location        0\n",
       "size            0\n",
       "society         0\n",
       "total_sqft      0\n",
       "bath            0\n",
       "balcony         0\n",
       "price           0\n",
       "dtype: int64"
      ]
     },
     "execution_count": 98,
     "metadata": {},
     "output_type": "execute_result"
    }
   ],
   "source": [
    "df.isnull().sum() ### no missing values"
   ]
  },
  {
   "cell_type": "code",
   "execution_count": 99,
   "id": "c16aaf60",
   "metadata": {},
   "outputs": [
    {
     "name": "stdout",
     "output_type": "stream",
     "text": [
      "<class 'pandas.core.frame.DataFrame'>\n",
      "Index: 7804 entries, 0 to 13318\n",
      "Data columns (total 9 columns):\n",
      " #   Column        Non-Null Count  Dtype  \n",
      "---  ------        --------------  -----  \n",
      " 0   area_type     7804 non-null   object \n",
      " 1   availability  7804 non-null   object \n",
      " 2   location      7804 non-null   object \n",
      " 3   size          7804 non-null   object \n",
      " 4   society       7804 non-null   object \n",
      " 5   total_sqft    7804 non-null   object \n",
      " 6   bath          7804 non-null   float64\n",
      " 7   balcony       7804 non-null   float64\n",
      " 8   price         7804 non-null   float64\n",
      "dtypes: float64(3), object(6)\n",
      "memory usage: 609.7+ KB\n"
     ]
    }
   ],
   "source": [
    "df.info()"
   ]
  },
  {
   "cell_type": "code",
   "execution_count": 100,
   "id": "38e86bd0",
   "metadata": {},
   "outputs": [
    {
     "data": {
      "text/html": [
       "<div>\n",
       "<style scoped>\n",
       "    .dataframe tbody tr th:only-of-type {\n",
       "        vertical-align: middle;\n",
       "    }\n",
       "\n",
       "    .dataframe tbody tr th {\n",
       "        vertical-align: top;\n",
       "    }\n",
       "\n",
       "    .dataframe thead th {\n",
       "        text-align: right;\n",
       "    }\n",
       "</style>\n",
       "<table border=\"1\" class=\"dataframe\">\n",
       "  <thead>\n",
       "    <tr style=\"text-align: right;\">\n",
       "      <th></th>\n",
       "      <th>area_type</th>\n",
       "      <th>availability</th>\n",
       "      <th>location</th>\n",
       "      <th>size</th>\n",
       "      <th>society</th>\n",
       "      <th>total_sqft</th>\n",
       "      <th>bath</th>\n",
       "      <th>balcony</th>\n",
       "      <th>price</th>\n",
       "    </tr>\n",
       "  </thead>\n",
       "  <tbody>\n",
       "    <tr>\n",
       "      <th>0</th>\n",
       "      <td>Super built-up  Area</td>\n",
       "      <td>19-Dec</td>\n",
       "      <td>Electronic City Phase II</td>\n",
       "      <td>2 BHK</td>\n",
       "      <td>Coomee</td>\n",
       "      <td>1056</td>\n",
       "      <td>2.0</td>\n",
       "      <td>1.0</td>\n",
       "      <td>39.07</td>\n",
       "    </tr>\n",
       "    <tr>\n",
       "      <th>1</th>\n",
       "      <td>Plot  Area</td>\n",
       "      <td>Ready To Move</td>\n",
       "      <td>Chikka Tirupathi</td>\n",
       "      <td>4 Bedroom</td>\n",
       "      <td>Theanmp</td>\n",
       "      <td>2600</td>\n",
       "      <td>5.0</td>\n",
       "      <td>3.0</td>\n",
       "      <td>120.00</td>\n",
       "    </tr>\n",
       "    <tr>\n",
       "      <th>3</th>\n",
       "      <td>Super built-up  Area</td>\n",
       "      <td>Ready To Move</td>\n",
       "      <td>Lingadheeranahalli</td>\n",
       "      <td>3 BHK</td>\n",
       "      <td>Soiewre</td>\n",
       "      <td>1521</td>\n",
       "      <td>3.0</td>\n",
       "      <td>1.0</td>\n",
       "      <td>95.00</td>\n",
       "    </tr>\n",
       "    <tr>\n",
       "      <th>5</th>\n",
       "      <td>Super built-up  Area</td>\n",
       "      <td>Ready To Move</td>\n",
       "      <td>Whitefield</td>\n",
       "      <td>2 BHK</td>\n",
       "      <td>DuenaTa</td>\n",
       "      <td>1170</td>\n",
       "      <td>2.0</td>\n",
       "      <td>1.0</td>\n",
       "      <td>38.00</td>\n",
       "    </tr>\n",
       "    <tr>\n",
       "      <th>6</th>\n",
       "      <td>Super built-up  Area</td>\n",
       "      <td>18-May</td>\n",
       "      <td>Old Airport Road</td>\n",
       "      <td>4 BHK</td>\n",
       "      <td>Jaades</td>\n",
       "      <td>2732</td>\n",
       "      <td>4.0</td>\n",
       "      <td>2.0</td>\n",
       "      <td>204.00</td>\n",
       "    </tr>\n",
       "  </tbody>\n",
       "</table>\n",
       "</div>"
      ],
      "text/plain": [
       "              area_type   availability                  location       size  \\\n",
       "0  Super built-up  Area         19-Dec  Electronic City Phase II      2 BHK   \n",
       "1            Plot  Area  Ready To Move          Chikka Tirupathi  4 Bedroom   \n",
       "3  Super built-up  Area  Ready To Move        Lingadheeranahalli      3 BHK   \n",
       "5  Super built-up  Area  Ready To Move                Whitefield      2 BHK   \n",
       "6  Super built-up  Area         18-May          Old Airport Road      4 BHK   \n",
       "\n",
       "   society total_sqft  bath  balcony   price  \n",
       "0  Coomee        1056   2.0      1.0   39.07  \n",
       "1  Theanmp       2600   5.0      3.0  120.00  \n",
       "3  Soiewre       1521   3.0      1.0   95.00  \n",
       "5  DuenaTa       1170   2.0      1.0   38.00  \n",
       "6  Jaades        2732   4.0      2.0  204.00  "
      ]
     },
     "execution_count": 100,
     "metadata": {},
     "output_type": "execute_result"
    }
   ],
   "source": [
    "df.head()"
   ]
  },
  {
   "cell_type": "code",
   "execution_count": 101,
   "id": "299da3ae",
   "metadata": {},
   "outputs": [
    {
     "data": {
      "text/plain": [
       "array(['2173', '655 - 742', '3170', '907', '1741', '3463', '2120',\n",
       "       '1107.83', '1408 - 1455', '2901', '4050 - 4075', '1713', '1266.67',\n",
       "       '942 - 1117', '2710', '1777.26', '1750 - 2640', '2093', '790',\n",
       "       '1744', '2476', '1877', '1649', '1593', '1333', '1390 - 1600',\n",
       "       '598 - 958', '1631', '1013', '2047', '2132', '992', '1229', '1412',\n",
       "       '2456', '1439', '5924', '2365', '1066', '2293', '1044', '855',\n",
       "       '922', '967', '1885', '1204', '1010 - 1300', '2122', '11000',\n",
       "       '1099', '1283', '3103 - 3890', '1450 - 1950', '2023', '2274.24',\n",
       "       '3589', '1770', '1244', '1019', '2134', '2515', '1567', '646',\n",
       "       '947.55', '1421', '15Acres', '2501', '381', '3301.8',\n",
       "       '1450 - 1595', '3204', '3408', '1864', '1496', '1860', '4166',\n",
       "       '1763', '763 - 805', '1806', '1002', '3307 - 3464', '620 - 934',\n",
       "       '3746', '2144.6', '1087', '1061', '2462 - 2467', '3657',\n",
       "       '540 - 740', '10200', '2780', '5200', '2425', '655', '1618 - 1929',\n",
       "       '3508 - 4201', '1613', '6830', '3692', '7800', '1962', '1894',\n",
       "       '1568', '4900 - 4940', '873', '1610 - 1880', '3633', '755 - 770',\n",
       "       '3978', '3621', '2095', '1362', '694', '782', '725', '1674',\n",
       "       '3033', '1181.7', '1356', '1338', '2625', '2041', '3565', '1502',\n",
       "       '3870', '4097', '1601', '664 - 722', '3435', '700 - 900', '1074',\n",
       "       '596 - 861', '1432', '2251', '2439', '1086', '1998', '3056',\n",
       "       '1836', '826', '2317', '666', '3197', '1516', '1491', '1881',\n",
       "       '2666', '3230', '1925 - 2680', '973', '2533', '615 - 985', '2297',\n",
       "       '1057', '1471', '2388', '3855', '1407', '4170', '2375', '1181',\n",
       "       '1506', '2496', '8400', '1054', '996', '540 - 565', '2736', '1547',\n",
       "       '2357', '663', '1707', '1324', '1786', '1368', '535', '2003',\n",
       "       '2504', '1409', '2087.01', '750 - 800', '1660 - 1805', '2704',\n",
       "       '3071', '2429', '7200', '1719.3', '3700', '1668', '1609', '720',\n",
       "       '1158', '1861', '2210', '3362', '1410 - 1710', '1307',\n",
       "       '1079 - 1183', '2800 - 2870', '682', '1230 - 1290', '2048', '1119',\n",
       "       '943 - 1220', '1797', '1016', '1816', '2041 - 2090', '1780',\n",
       "       '4700', '1234.6', '492', '1902', '1214', '565', '1763.25',\n",
       "       '527 - 639', '1294', '9600', '1076', '534', '2249.81', '3626',\n",
       "       '4560', '2020', '1160 - 1315', '706 - 716', '3560', '1441', '3508',\n",
       "       '2940Sq. Yards', '2996', '10000', '1823', '994', '1172', '702',\n",
       "       '3496', '1623', '1792', '1587', '1529', '1319', '991', '1844',\n",
       "       '1791 - 4000', '2648', '1059', '1184', '2223', '45.06Sq. Meter',\n",
       "       '799 - 803', '2185', '2733', '1389', '2970', '1738', '1907',\n",
       "       '4446', '3150', '2470 - 2790', '2430', '783 - 943', '1905', '5384',\n",
       "       '1723', '1607', '5150', '2956', '1032', '1522', '4041', '860',\n",
       "       '2247', '2980', '2087', '4500 - 5540', '3005', '4201', '4382',\n",
       "       '2140', '1921', '1669', '1642', '1361', '939', '3350',\n",
       "       '1255 - 1375', '2950', '1733.5', '3418', '691', '3092',\n",
       "       '610 - 615', '3913', '1049', '1423', '854 - 960', '1164', '1981',\n",
       "       '1201', '2650 - 2990', '1677', '7514', '2735', '1287', '284',\n",
       "       '2077', '524', '1230 - 1490', '1493', '2495', '3075', '3090',\n",
       "       '3126', '2367', '2082', '896.9', '2064', '488', '660 - 780', '938',\n",
       "       '3675', '2569', '1383', '2289', '4303', '1940', '986',\n",
       "       '1150 - 1194', '672', '2507', '684 - 810', '2030', '1518',\n",
       "       '866.28', '3410', '1761', '509', '3535', '3019', '1510 - 1670',\n",
       "       '1748', '3420', '1604', '1248.52', '4600', '1376', '1538',\n",
       "       '1550 - 1590', '1129', '1886', '3453', '943', '1879',\n",
       "       '1235 - 1410', '1737', '3484 - 3550', '1139.7', '1323', '1588',\n",
       "       '1402', '929 - 1078', '3009', '2150 - 2225', '2051', '1520 - 1759',\n",
       "       '3425', '4450', '6652', '976', '1633', '1037', '1236', '4694',\n",
       "       '629 - 1026', '2282', '1814', '2695', '60', '1215 - 1495', '842',\n",
       "       '1436', '1140 - 1250', '4304', '2415', '1426', '1473', '4040',\n",
       "       '2406', '2400 - 2600', '2137', '2787', '3250', '1052 - 1322',\n",
       "       '633', '485', '1684', '815', '5666 - 5669', '2162.03', '1396',\n",
       "       '2019', '1747', '966', '2360', '1273', '2615', '1289', '1377',\n",
       "       '1892', '2176', '3554', '4250', '1708', '1524', '2236', '2955',\n",
       "       '1950.2', '712 - 938', '2171.66', '1783 - 1878', '3729', '953',\n",
       "       '5515', '1321', '1317', '2528 - 3188', '1454', '2153', '475',\n",
       "       '1623.29', '650 - 760', '5480', '3040', '5656', '866', '3504',\n",
       "       '4723', '2453', '3295', '2505', '567', '1400 - 1421', '1443',\n",
       "       '1857', '1876', '1916', '4000 - 4450', '142.84Sq. Meter', '3734',\n",
       "       '4007', '1154', '300Sq. Yards', '1768', '3210', '1584', '1686',\n",
       "       '1989', '1932.47', '2086', '2204 - 2362', '2206', '1659',\n",
       "       '1437 - 1629', '2665', '850 - 1060', '1701', '2292', '1348',\n",
       "       '1264', '1557', '1200 - 1470', '1369', '5665.84', '2920', '6688',\n",
       "       '1331.95', '2265', '1379', '3124', '613', '2395', '1667', '1903',\n",
       "       '1020 - 1130', '1651', '1211', '1453', '1133 - 1384', '1919',\n",
       "       '2111', '4689'], dtype=object)"
      ]
     },
     "execution_count": 101,
     "metadata": {},
     "output_type": "execute_result"
    }
   ],
   "source": [
    "df['total_sqft'].unique()[1300:]"
   ]
  },
  {
   "cell_type": "code",
   "execution_count": 102,
   "id": "68263375",
   "metadata": {},
   "outputs": [],
   "source": [
    "def convert_sqft_to_num(x):\n",
    "    try:\n",
    "        tokens = x.split('-')\n",
    "        if len(tokens) == 2:\n",
    "            return (float(tokens[0]) + float(tokens[1])) / 2    \n",
    "        return float(x)\n",
    "    except:\n",
    "\n",
    "        if 'Sq. Meter' in x:\n",
    "            return float(x.replace('Sq. Meter', '').strip()) * 10.7639   # 1 sq meter = 10.7639 sq ft\n",
    "        elif 'Perch' in x:\n",
    "            return float(x.replace('Perch', '').strip()) * 272.25   # 1 perch = 272.25 sq ft\n",
    "        elif 'Sq. Yards' in x:\n",
    "            return float(x.replace('Sq. Yards', '').strip()) * 9    # 1 sq yard = 9 sq ft\n",
    "        elif 'Acres' in x:\n",
    "            return float(x.replace('Acres', '').strip()) * 43560   # 1 acre = 43560 sq ft\n",
    "        return None  \n",
    "df['total_sqft'] = df['total_sqft'].apply(convert_sqft_to_num)"
   ]
  },
  {
   "cell_type": "code",
   "execution_count": 103,
   "id": "cd975939",
   "metadata": {},
   "outputs": [
    {
     "data": {
      "text/html": [
       "<div>\n",
       "<style scoped>\n",
       "    .dataframe tbody tr th:only-of-type {\n",
       "        vertical-align: middle;\n",
       "    }\n",
       "\n",
       "    .dataframe tbody tr th {\n",
       "        vertical-align: top;\n",
       "    }\n",
       "\n",
       "    .dataframe thead th {\n",
       "        text-align: right;\n",
       "    }\n",
       "</style>\n",
       "<table border=\"1\" class=\"dataframe\">\n",
       "  <thead>\n",
       "    <tr style=\"text-align: right;\">\n",
       "      <th></th>\n",
       "      <th>area_type</th>\n",
       "      <th>availability</th>\n",
       "      <th>location</th>\n",
       "      <th>size</th>\n",
       "      <th>society</th>\n",
       "      <th>total_sqft</th>\n",
       "      <th>bath</th>\n",
       "      <th>balcony</th>\n",
       "      <th>price</th>\n",
       "    </tr>\n",
       "  </thead>\n",
       "  <tbody>\n",
       "    <tr>\n",
       "      <th>0</th>\n",
       "      <td>Super built-up  Area</td>\n",
       "      <td>19-Dec</td>\n",
       "      <td>Electronic City Phase II</td>\n",
       "      <td>2 BHK</td>\n",
       "      <td>Coomee</td>\n",
       "      <td>1056.0</td>\n",
       "      <td>2.0</td>\n",
       "      <td>1.0</td>\n",
       "      <td>39.07</td>\n",
       "    </tr>\n",
       "    <tr>\n",
       "      <th>1</th>\n",
       "      <td>Plot  Area</td>\n",
       "      <td>Ready To Move</td>\n",
       "      <td>Chikka Tirupathi</td>\n",
       "      <td>4 Bedroom</td>\n",
       "      <td>Theanmp</td>\n",
       "      <td>2600.0</td>\n",
       "      <td>5.0</td>\n",
       "      <td>3.0</td>\n",
       "      <td>120.00</td>\n",
       "    </tr>\n",
       "    <tr>\n",
       "      <th>3</th>\n",
       "      <td>Super built-up  Area</td>\n",
       "      <td>Ready To Move</td>\n",
       "      <td>Lingadheeranahalli</td>\n",
       "      <td>3 BHK</td>\n",
       "      <td>Soiewre</td>\n",
       "      <td>1521.0</td>\n",
       "      <td>3.0</td>\n",
       "      <td>1.0</td>\n",
       "      <td>95.00</td>\n",
       "    </tr>\n",
       "    <tr>\n",
       "      <th>5</th>\n",
       "      <td>Super built-up  Area</td>\n",
       "      <td>Ready To Move</td>\n",
       "      <td>Whitefield</td>\n",
       "      <td>2 BHK</td>\n",
       "      <td>DuenaTa</td>\n",
       "      <td>1170.0</td>\n",
       "      <td>2.0</td>\n",
       "      <td>1.0</td>\n",
       "      <td>38.00</td>\n",
       "    </tr>\n",
       "    <tr>\n",
       "      <th>6</th>\n",
       "      <td>Super built-up  Area</td>\n",
       "      <td>18-May</td>\n",
       "      <td>Old Airport Road</td>\n",
       "      <td>4 BHK</td>\n",
       "      <td>Jaades</td>\n",
       "      <td>2732.0</td>\n",
       "      <td>4.0</td>\n",
       "      <td>2.0</td>\n",
       "      <td>204.00</td>\n",
       "    </tr>\n",
       "  </tbody>\n",
       "</table>\n",
       "</div>"
      ],
      "text/plain": [
       "              area_type   availability                  location       size  \\\n",
       "0  Super built-up  Area         19-Dec  Electronic City Phase II      2 BHK   \n",
       "1            Plot  Area  Ready To Move          Chikka Tirupathi  4 Bedroom   \n",
       "3  Super built-up  Area  Ready To Move        Lingadheeranahalli      3 BHK   \n",
       "5  Super built-up  Area  Ready To Move                Whitefield      2 BHK   \n",
       "6  Super built-up  Area         18-May          Old Airport Road      4 BHK   \n",
       "\n",
       "   society  total_sqft  bath  balcony   price  \n",
       "0  Coomee       1056.0   2.0      1.0   39.07  \n",
       "1  Theanmp      2600.0   5.0      3.0  120.00  \n",
       "3  Soiewre      1521.0   3.0      1.0   95.00  \n",
       "5  DuenaTa      1170.0   2.0      1.0   38.00  \n",
       "6  Jaades       2732.0   4.0      2.0  204.00  "
      ]
     },
     "execution_count": 103,
     "metadata": {},
     "output_type": "execute_result"
    }
   ],
   "source": [
    "df.head()"
   ]
  },
  {
   "cell_type": "code",
   "execution_count": 104,
   "id": "6f92e086",
   "metadata": {},
   "outputs": [
    {
     "data": {
      "text/plain": [
       "array([1056., 2600., 1521., ..., 1919., 2111., 4689.])"
      ]
     },
     "execution_count": 104,
     "metadata": {},
     "output_type": "execute_result"
    }
   ],
   "source": [
    "df['total_sqft'].unique()"
   ]
  },
  {
   "cell_type": "code",
   "execution_count": 105,
   "id": "e64c3f8f",
   "metadata": {},
   "outputs": [
    {
     "data": {
      "text/html": [
       "<div>\n",
       "<style scoped>\n",
       "    .dataframe tbody tr th:only-of-type {\n",
       "        vertical-align: middle;\n",
       "    }\n",
       "\n",
       "    .dataframe tbody tr th {\n",
       "        vertical-align: top;\n",
       "    }\n",
       "\n",
       "    .dataframe thead th {\n",
       "        text-align: right;\n",
       "    }\n",
       "</style>\n",
       "<table border=\"1\" class=\"dataframe\">\n",
       "  <thead>\n",
       "    <tr style=\"text-align: right;\">\n",
       "      <th></th>\n",
       "      <th>area_type</th>\n",
       "      <th>availability</th>\n",
       "      <th>location</th>\n",
       "      <th>size</th>\n",
       "      <th>society</th>\n",
       "      <th>total_sqft</th>\n",
       "      <th>bath</th>\n",
       "      <th>balcony</th>\n",
       "      <th>price</th>\n",
       "    </tr>\n",
       "  </thead>\n",
       "  <tbody>\n",
       "  </tbody>\n",
       "</table>\n",
       "</div>"
      ],
      "text/plain": [
       "Empty DataFrame\n",
       "Columns: [area_type, availability, location, size, society, total_sqft, bath, balcony, price]\n",
       "Index: []"
      ]
     },
     "execution_count": 105,
     "metadata": {},
     "output_type": "execute_result"
    }
   ],
   "source": [
    "def is_numeric(val):\n",
    "    try:\n",
    "        float(val)\n",
    "        return True\n",
    "    except:\n",
    "        return False\n",
    "\n",
    "df[~df['total_sqft'].apply(is_numeric)]"
   ]
  },
  {
   "cell_type": "code",
   "execution_count": 106,
   "id": "1ca82c5d",
   "metadata": {},
   "outputs": [
    {
     "name": "stdout",
     "output_type": "stream",
     "text": [
      "<class 'pandas.core.frame.DataFrame'>\n",
      "Index: 7804 entries, 0 to 13318\n",
      "Data columns (total 9 columns):\n",
      " #   Column        Non-Null Count  Dtype  \n",
      "---  ------        --------------  -----  \n",
      " 0   area_type     7804 non-null   object \n",
      " 1   availability  7804 non-null   object \n",
      " 2   location      7804 non-null   object \n",
      " 3   size          7804 non-null   object \n",
      " 4   society       7804 non-null   object \n",
      " 5   total_sqft    7804 non-null   float64\n",
      " 6   bath          7804 non-null   float64\n",
      " 7   balcony       7804 non-null   float64\n",
      " 8   price         7804 non-null   float64\n",
      "dtypes: float64(4), object(5)\n",
      "memory usage: 609.7+ KB\n"
     ]
    }
   ],
   "source": [
    "df.info()"
   ]
  },
  {
   "cell_type": "code",
   "execution_count": 107,
   "id": "c7d77222",
   "metadata": {},
   "outputs": [
    {
     "data": {
      "text/plain": [
       "array(['Coomee ', 'Theanmp', 'Soiewre', ..., 'SJovest', 'ThhtsV ',\n",
       "       'RSntsAp'], dtype=object)"
      ]
     },
     "execution_count": 107,
     "metadata": {},
     "output_type": "execute_result"
    }
   ],
   "source": [
    "df['society'].unique()"
   ]
  },
  {
   "cell_type": "code",
   "execution_count": 108,
   "id": "11a6e3f9",
   "metadata": {},
   "outputs": [
    {
     "data": {
      "text/plain": [
       "array(['Electronic City Phase II', 'Chikka Tirupathi',\n",
       "       'Lingadheeranahalli', 'Whitefield', 'Old Airport Road',\n",
       "       'Rajaji Nagar', '7th Phase JP Nagar', 'Sarjapur', 'Mysore Road',\n",
       "       'Bisuvanahalli', 'Raja Rajeshwari Nagar', 'Ramakrishnappa Layout',\n",
       "       'Binny Pete', 'Thanisandra', ' Thanisandra', 'Electronic City',\n",
       "       'Ramagondanahalli', 'Yelahanka', 'Hebbal', 'Kasturi Nagar',\n",
       "       'Kanakpura Road', 'Kundalahalli', 'Murugeshpalya',\n",
       "       'Sarjapur  Road', 'Ganga Nagar', 'Doddathoguru', 'Adarsh Nagar',\n",
       "       'Bhoganhalli', 'Lakshminarayana Pura', 'Begur Road', 'Devanahalli',\n",
       "       'Varthur', 'Gunjur', 'Hegde Nagar', 'Haralur Road', 'Hennur Road',\n",
       "       'Cholanayakanahalli', 'Kodanda Reddy Layout', 'EPIP Zone',\n",
       "       'Dasanapura', 'Kasavanhalli', 'Sanjay nagar', 'Kengeri',\n",
       "       'Yeshwanthpur', 'Chandapura', 'Kothanur', 'Green View Layout',\n",
       "       'Shantiniketan Layout', 'Byatarayanapura', 'Akshaya Nagar',\n",
       "       'LB Shastri Nagar', 'Hormavu', 'Peenya', 'Kudlu Gate',\n",
       "       '8th Phase JP Nagar', 'Chandra Layout', 'Anandapura',\n",
       "       'Kengeri Satellite Town', 'Basavanapura', 'Kannamangala',\n",
       "       'Sanjeevini Nagar', 'Hulimavu', 'Hosa Road', 'Keshava Nagar',\n",
       "       'RMV Extension', 'Tejaswini Nagar', 'Jai Bheema Nagar', 'Attibele',\n",
       "       'CV Raman Nagar', 'Malleshwaram', 'Hebbal Kempapura',\n",
       "       'Vijayanagar', 'KR Puram', 'Marathahalli', 'Pattandur Agrahara',\n",
       "       'HSR Layout', 'Kadugodi', 'Kogilu', 'Panathur', 'Kammasandra',\n",
       "       'Electronics City Phase 1', 'Tala Cauvery Layout', 'Dasarahalli',\n",
       "       'Koramangala', 'Muthurayya Swamy Layout', 'Budigere',\n",
       "       'Dodda Nekkundi Extension', 'Mylasandra', 'Kalyan nagar',\n",
       "       'Ashwath Nagar', 'Ncpr Industrial Layout', 'Meenakunte',\n",
       "       'OMBR Layout', 'Coffee Board Layout', 'Ambedkar Nagar',\n",
       "       'Geleyara Balaga Layout', 'Kalena Agrahara', 'Talaghattapura',\n",
       "       'Balagere', 'Jigani', 'Gollarapalya Hosahalli', 'Old Madras Road',\n",
       "       'Silver Springs Layout', '9th Phase JP Nagar', 'Jakkur',\n",
       "       'Maruthi Sevanagar', 'RMV 2nd Stage', 'Singasandra', 'AECS Layout',\n",
       "       'Mallasandra', 'Begur', 'JP Nagar', 'Sunder Ram Shetty Nagar',\n",
       "       'Motappa Layout', 'Kaval Byrasandra', 'Kaggalipura',\n",
       "       'Basavanna Nagar', '6th Phase JP Nagar', 'Ulsoor', 'Uttarahalli',\n",
       "       'Thigalarapalya', ' Devarachikkanahalli', 'Bommasandra',\n",
       "       'Prashanth Nagar', 'Suragajakkanahalli', 'Ardendale', 'Harlur',\n",
       "       'Sampigehalli', 'Kodihalli', 'Magadi Road', 'Narayanapura',\n",
       "       'Hennur', '5th Phase JP Nagar', 'Kodigehaali', 'Bannerghatta Road',\n",
       "       'Gopalapura', 'Billekahalli', 'Jalahalli', 'Mahadevpura',\n",
       "       'Sompura', 'Ashirvad Colony', 'Dodda Nekkundi', 'Hosur Road',\n",
       "       'Sanne Amanikere', 'Amco Colony', 'Ambalipura', 'Hoodi',\n",
       "       'Samethanahalli', 'Brookefield', 'Richmond Town',\n",
       "       'Suddaguntepalya', 'Udayapur Village', 'Bellandur', 'Vittasandra',\n",
       "       'Giri Nagar', 'Chikkabidarakallu', '1 Giri Nagar', 'Hoysalanagar',\n",
       "       'Defence Colony', 'Amruthahalli', 'Patelappa Layout',\n",
       "       'Subramanyapura', '3rd Block Hrbr Layout', 'Surabhi Layout',\n",
       "       'Omkar Nagar', 'Kambipura', 'VHBCS Layout', 'Rajiv Nagar',\n",
       "       'Gattahalli', 'Arekere', 'Mico Layout', 'K G Colony',\n",
       "       'Munnekollal', 'Banashankari Stage III', 'Dooravani Nagar',\n",
       "       'JCR Layout', 'Nehru Nagar', 'Sneha Colony', 'Konanakunte',\n",
       "       'Ashwini layout', 'Gottigere', 'HRBR Layout', 'Kanakapura',\n",
       "       'Tumkur Road', 'Hosahalli', 'Jalahalli West', 'GM Palaya',\n",
       "       'Jalahalli East', 'Hosakerehalli', 'Nagondanahalli',\n",
       "       'Shanthala Nagar', 'Bettahalsoor', 'Ambedkar Colony',\n",
       "       'Kaggadasapura', 'Avalahalli', 'Prakruthi Nagar', 'Abbigere',\n",
       "       'Tindlu', 'Green Garden Layout', 'Gubbalala', 'Dairy Circle',\n",
       "       'Narayana Nagar 1st Block', 'KSRTC Layout', 'New Gurappana Palya',\n",
       "       'Palanahalli', 'Vadarpalya', 'Kudlu', 'Vishwapriya Layout',\n",
       "       'Banashankari Stage VI', 'Battarahalli', 'HMT Layout',\n",
       "       'ITI Layout', 'Yelahanka New Town', 'Sahakara Nagar',\n",
       "       'Rachenahalli', 'Kodbisanhalli', 'Sathya Sai Layout',\n",
       "       'Kodichikkanahalli', 'Bendiganahalli', 'Ferrar Nagar',\n",
       "       'Green Glen Layout', 'M.G Road', 'Horamavu Banaswadi',\n",
       "       '1st Phase JP Nagar', 'Kaverappa Layout', 'Devarabisanahalli',\n",
       "       'Somasundara Palya', 'Vidyaranyapura', 'Babusapalaya',\n",
       "       'Nagappa Reddy Layout', 'TC Palaya', 'Suraksha Nagar',\n",
       "       'Iblur Village', 'Yelachenahalli', 'Basava Nagar',\n",
       "       '2nd Block Hrbr Layout', 'BTM 1st Stage', 'Basapura',\n",
       "       'Channasandra', 'Singena Agrahara', 'Mango Garden Layout',\n",
       "       'Choodasandra', 'Indira Nagar', 'Sai Gardens', 'Hanumanth Nagar',\n",
       "       'Basaveshwara Nagar', 'Kaikondrahalli', 'Hunasamaranahalli',\n",
       "       'RWF West Colony', 'Bileshivale', 'Neeladri Nagar', 'Frazer Town',\n",
       "       'Jaya Nagar East', 'Iggalur', 'Banashankari', 'Chamrajpet',\n",
       "       'VGP Layout', 'Vasanth nagar', 'Kalkere', 'Siddapura',\n",
       "       'Maragondanahalli', 'Ramamurthy Nagar', 'Garudachar Palya',\n",
       "       'Roopena Agrahara', 'Gollahalli', 'Sonnenahalli', 'D Souza Layout',\n",
       "       'Nagarbhavi', 'Bommanahalli', 'Chikkalasandra', 'Dommasandra',\n",
       "       'Byadarahalli', 'Judicial Layout', 'Outer Ring Road East',\n",
       "       'Vinayaka Nagar', 'GB Palya', 'Karuna Nagar', 'Ashwathnagar',\n",
       "       'Belathur', 'Srirampura', 'Devanahalli Road', 'Ejipura',\n",
       "       'Green Woods Layout', 'Craig Park Layout', 'Immadihalli',\n",
       "       'Muneshwara Nagar', 'Rayasandra', 'Malleshpalya',\n",
       "       'Parappana Agrahara', 'Lakshmi Layout', 'Thirumenahalli',\n",
       "       'KPC Layout', 'Daadys Gaarden Layout', 'Kothannur', 'Marsur',\n",
       "       'Kallumantapa', 'Malimakanapura', 'Medahalli',\n",
       "       'Rustam Bagh Layout', 'Garden Layout', 'T K Reddy Layout',\n",
       "       'Doddanekundi', 'Venkatadri Layout', 'Bommenahalli',\n",
       "       'Mahaganapathy Nagar', 'HBR Layout', 'Vittal Nagar',\n",
       "       'Bhuvaneshwari Nagar', 'Prithvi Layout', 'Domlur', 'Thubarahalli',\n",
       "       'Jaya Mahal layout', 'BSM Extension', 'Vijinapura', 'Byrasandra',\n",
       "       'Chowdeshwari Layout', 'Sector 2 HSR Layout', 'Anantapura',\n",
       "       'Padmanabhanagar', 'Badavala Nagar', '4th Block Koramangala',\n",
       "       'Belatur', 'Nallurhalli', 'Kereguddadahalli', 'Laxmi Sagar Layout',\n",
       "       'Bannerghatta', 'Harappanahalli', 'BTM Layout', 'Kanaka Nagar',\n",
       "       'Govindpura', 'NR Colony', 'Byagadadhenahalli', 'Doddabommasandra',\n",
       "       'Sarjapura - Attibele Road', 'Maruthi Layout',\n",
       "       'Sree Narayana Nagar', 'Tunganagara', 'Nagavara',\n",
       "       'Remco Bhel Layout', 'Chokkasandra', 'Panduranga Nagar',\n",
       "       'Jakkur Plantation', '1st Block Koramangala',\n",
       "       'Shree Ananth Nagar Layout', 'Hoskote', 'Sector 1 HSR Layout',\n",
       "       'BTM 2nd Stage', 'Ananth Nagar', 'Sundar Ram Shetty Nagar',\n",
       "       'Alfa Garden Layout', 'Hoodi Layout', 'Seegehalli',\n",
       "       'Gaundanapalya', '2nd Phase JP Nagar', 'Doctors Layout',\n",
       "       'Basavangudi', 'Vishwapriya Nagar', 'Sarakki Nagar',\n",
       "       'Lottegolla Halli', 'R.T. Nagar', 'Sector 7 HSR Layout',\n",
       "       'Hennur Gardens', 'Howthinarayanappa Garden', 'Bharathi Nagar',\n",
       "       'Cambridge Layout', 'Doddakannelli', 'Cox Town', 'Pulkeshi Nagar',\n",
       "       'Jayanagar', ' Bhoganhalli', 'Pai Layout', '8th block Koramangala',\n",
       "       'Bidadi', 'Amruthnagar', 'Rajiv Gandhi Nagar', 'Anekal',\n",
       "       'Bhagyalakshmi Avenue', 'Doddaballapur', 'Horamavu Agara',\n",
       "       'Chinnapanahalli', 'Balaji Gardens Layout', ' Rachenahalli',\n",
       "       'Akshaya Vana', 'Channasandra Layout', 'Gopalkrishna Nagar',\n",
       "       'Volagerekallahalli', 'Keerthi Layout', 'Shikaripalya', 'Hagadur',\n",
       "       'Soundarya Layout', 'Cunningham Road', 'Dollars Layout',\n",
       "       'Nagavarapalya', 'Sultan Palaya', 'Gopal Reddy Layout',\n",
       "       'Thurahalli', 'Kadubeesanahalli', 'Cleveland Town',\n",
       "       'Kada Agrahara', 'Nanjappa Layout', 'Bellari Road',\n",
       "       'Abbaiah Reddy Layout', 'Tata Nagar', ' Devarabeesana Halli',\n",
       "       'Brindavan Nagar', 'Seetharampalya', 'B Narayanapura',\n",
       "       'Raghuvanahalli', 'Wilson Garden', 'Challaghatta', 'KR Garden',\n",
       "       'Kathriguppe', 'Sahyadri Layout', 'Bagalur', 'P Krishnappa Layout',\n",
       "       'Crimson Layout', 'Kyalasanahalli', 'Ckikkakammana Halli',\n",
       "       'Munivenkatppa Layout', 'Vijaya Bank Layout', 'Kumarapalli',\n",
       "       'Lingarajapuram', 'Vasantha Vallabha Nagar', 'Kalhalli',\n",
       "       'Kumaraswami Layout', 'Hadosiddapura', 'Kachanayakanahalli',\n",
       "       'Yelenahalli', '6th block Koramangala', 'Vignana Nagar',\n",
       "       'Canara Bank Colony', 'Hanumagiri', 'Benson Town',\n",
       "       'Akshayanagara West', 'OLd Gurappanapalya', 'Ramanjaneyanagar',\n",
       "       'B Channasandra', 'New Thippasandra', 'Gattigere', 'Kamakshipalya',\n",
       "       'Yemlur', 'Dollars Colony', 'Pragathi Nagar', 'HAL 2nd Stage',\n",
       "       'Poorna Pragna Layout', 'Kenchenahalli', 'Kundalahalli Colony',\n",
       "       'Amblipura', 'Vimanapura', 'Dodsworth Layout', 'Devasthanagalu',\n",
       "       'Venugopal Reddy Layout', 'Lake City', 'S R Layout',\n",
       "       'Sadduguntepalya', 'Mallathahalli', 'Doddakammanahalli',\n",
       "       'Chikkathoguru', 'Richards Town', 'BCC Layout', 'Vinayak Nagar',\n",
       "       'Jaladarsini Layout', 'Brooke Bond First Cross',\n",
       "       'Glass Factory Layout', 'Raghavendra Nagar', 'Bhuvaneswari Nagar',\n",
       "       ' Electronic City', 'Mathikere', 'Kempegowda Nagar',\n",
       "       'Nyanappana Halli', 'Nelamangala', ' Whitefield',\n",
       "       'Vaishnavi Layout', 'Naganathapura', 'Thomas Town', 'Venkatapura',\n",
       "       '3rd Phase JP Nagar', 'Devarachikkanahalli', 'Anjanapura',\n",
       "       'Reliaable Tranquil Layout', 'Mailasandra', 'Chelekare',\n",
       "       'Doopanahalli', 'Kattigenahalli', 'Varthur Road', 'Bethel Nagar',\n",
       "       'Dollar Scheme Colony', 'Omarbagh Layout',\n",
       "       'Aishwarya Crystal Layout', '2nd Block Jayanagar',\n",
       "       'Nayandanahalli', 'DUO Layout', 'ISRO Layout', 'Hennur Bande',\n",
       "       'Shampura', 'Langford Gardens', 'Vishwanatha Nagenahalli',\n",
       "       'Friends Colony', 'Shettigere', 'Rahat Bagh', 'NTI Layout',\n",
       "       'Gunjur Palya', 'Maithri Layout', 'Nobo Nagar',\n",
       "       'Krishna Reddy Layout', 'Kuvempu Layout', 'Kaveri Nagar',\n",
       "       'Devi Nagar', 'Chikkabanavar', 'Bommasandra Industrial Area',\n",
       "       'Stage-4 Bommanahalli', 'Banashankari Stage V', 'Mullur',\n",
       "       'Manorayana Palya', 'Sadahalli', 'Sathya Layout', 'Shanti Nagar',\n",
       "       'Jayamahal', 'Veer Sandra', 'Chennappa Layout',\n",
       "       'Jeevan bima nagar', 'Lavakusha Nagar', 'Vittal Mallya Road',\n",
       "       'Dena Bank Colony', 'Doddabidrakallu', 'NGR Layout',\n",
       "       'Jnana Ganga Nagar', 'Ittamadu', 'Chokkanahalli', 'Vikram Nagar',\n",
       "       'Sarvabhouma Nagar', 'Coconut Grove Layout', 'Kadabagere',\n",
       "       'Anand Nagar', 'Kammanahalli', 'Janatha Colony',\n",
       "       '1st Block Jayanagar', 'Veersandra', 'Kumbena Agrahara',\n",
       "       'Hiremath Layout', 'Nagadevanahalli', 'Ramamurthy Nagar Extension',\n",
       "       'Himagiri Meadows', 'Narayanappa Garden', 'Kempapura',\n",
       "       'Carmelaram', 'Ankappa Layout', 'Jakkuru Layout', 'Maruthi Nagar',\n",
       "       'Punappa Layout', 'Pampa Extension', 'Banaswadi',\n",
       "       '2nd Stage Arekere Mico Layout', 'BCMC Layout', 'Uday Nagar',\n",
       "       'Chaitanya Ananya', 'Kacharakanahalli', 'Tigalarpalya',\n",
       "       ' Banaswadi', 'Sugama Layout', 'Hongasandra', 'Anugrah Layout',\n",
       "       'Bandepalya', 'AMS Layout', 'RPC layout', 'Gulimangala',\n",
       "       'Addischetan Layout', 'Sadaramangala', 'Konena Agrahara',\n",
       "       'Raghavendra Layout', 'Varsova Layout',\n",
       "       'Raja Rajeshwari Nagar 5th Stage', '7th Block Jayanagar',\n",
       "       'Bande Nallasandra', 'Upkar Layout', 'Singapura Village',\n",
       "       'Canara Bank Layout', 'Queens Road', 'Hosapalya', 'Jagadish Nagar',\n",
       "       'Rajasree Layout', 'Chikkadunnasandra', 'Vinayaka Layout',\n",
       "       'Thirumalashettyhally', 'Vibuthipura', 'Kodigehalli', 'Cooke Town',\n",
       "       'P&T Layout', 'Varanasi', 'Virudhu Nagar', 'Ramanashree Enclave',\n",
       "       'Chikku Lakshmaiah Layout', 'Shivaji Nagar', 'Chikkagubbi',\n",
       "       'Kammagondahalli', 'Yeshwanthpur Industrial Suburb', 'Thirupalya',\n",
       "       'Tirumanahalli', 'ITPL', 'NRI Layout', 'Adugodi', 'Sidedahalli',\n",
       "       'Shanthi Pura', 'Anwar Layout', 'Doddanakundi Industrial Area 2',\n",
       "       'RBI Layout', 'Shauhardha Layout', 'Bhoopsandra',\n",
       "       '3rd Block Koramangala', 'Kuvempu Nagar',\n",
       "       'Sri Balaji Krupa Layout', \"St. John's Road\", 'Govindapura',\n",
       "       'Ayappa Nagar', 'Hessarghatta', '1Kasavanhalli', 'Anantapuram',\n",
       "       'Chikka Banaswadi', 'Akshayanagara East', 'Guddadahalli',\n",
       "       'Kashi Nagar', 'Nanjappa Garden', 'Allalasandra',\n",
       "       'Maheswari Nagar', 'Udayagiri', 'Mahalakshmi Layout',\n",
       "       'Rahmath Nagar', 'Halanayakanahalli', 'Air View Colony',\n",
       "       'Amam Enclave Layout', 'Mallappa Layout', 'Devarabeesana Halli',\n",
       "       'Chikbasavanapura', 'Billamaranahalli', 'Jogupalya', 'Gulakamale',\n",
       "       'Mahalakshmi Puram', 'Jakkasandra', 'Dinnur', 'Virupakshapura',\n",
       "       'Kenchenhalli', 'Sindhi Colony', 'Church Street',\n",
       "       'Sarvobhogam Nagar', 'Near International Airport', 'Palace Road',\n",
       "       'Abshot Layout'], dtype=object)"
      ]
     },
     "execution_count": 108,
     "metadata": {},
     "output_type": "execute_result"
    }
   ],
   "source": [
    "df['location'].unique()"
   ]
  },
  {
   "cell_type": "code",
   "execution_count": 109,
   "id": "fc3a88cc",
   "metadata": {},
   "outputs": [
    {
     "data": {
      "text/plain": [
       "location\n",
       "Whitefield            418\n",
       "Sarjapur  Road        334\n",
       "Electronic City       236\n",
       "Kanakpura Road        227\n",
       "Thanisandra           214\n",
       "                     ... \n",
       "S R Layout              1\n",
       "Sadduguntepalya         1\n",
       "BCC Layout              1\n",
       "Jaladarsini Layout      1\n",
       "Abshot Layout           1\n",
       "Name: count, Length: 647, dtype: int64"
      ]
     },
     "execution_count": 109,
     "metadata": {},
     "output_type": "execute_result"
    }
   ],
   "source": [
    "df['location'].value_counts()"
   ]
  },
  {
   "cell_type": "code",
   "execution_count": 110,
   "id": "9cc39468",
   "metadata": {},
   "outputs": [
    {
     "data": {
      "text/plain": [
       "array(['19-Dec', 'Ready To Move', '18-May', '18-Nov', '17-Oct', '21-Dec',\n",
       "       '19-Sep', '20-Sep', '18-Mar', '20-Feb', '18-Apr', '20-Aug',\n",
       "       '18-Oct', '19-Mar', '17-Sep', '17-Aug', '19-Apr', '22-Dec',\n",
       "       '18-Aug', '19-Jan', '17-Jul', '18-Jul', '18-Dec', '21-Jun',\n",
       "       '18-Sep', '17-May', '17-Jun', '21-May', '20-Dec', '18-Jun',\n",
       "       '16-Mar', '22-Jun', '17-Dec', '21-Feb', '19-May', '17-Nov',\n",
       "       '20-Oct', '20-Jun', '18-Feb', '19-Feb', '21-Oct', '21-Jan',\n",
       "       '17-Mar', '19-Jun', '17-Apr', '22-May', '19-Oct', '21-Jul',\n",
       "       '21-Nov', '21-Mar', '19-Jul', '20-Jan', '21-Sep', '18-Jan',\n",
       "       '20-Mar', '19-Nov', '15-Nov', '15-Jun', '19-Aug', '20-May',\n",
       "       '20-Nov', '20-Jul', '15-Oct', '15-Dec', '21-Aug', '16-Oct',\n",
       "       '22-Nov', '16-Dec', '15-Aug', '17-Jan', '16-Nov', '20-Apr',\n",
       "       '22-Jan', '16-Jan', '17-Feb', '14-Jul'], dtype=object)"
      ]
     },
     "execution_count": 110,
     "metadata": {},
     "output_type": "execute_result"
    }
   ],
   "source": [
    "df['availability'].unique()"
   ]
  },
  {
   "cell_type": "code",
   "execution_count": 111,
   "id": "9116cc32",
   "metadata": {},
   "outputs": [],
   "source": [
    "df['availability_ready'] = df['availability'].apply(lambda x: 1 if 'Ready To Move' in x else 0)"
   ]
  },
  {
   "cell_type": "code",
   "execution_count": 112,
   "id": "f193f412",
   "metadata": {},
   "outputs": [],
   "source": [
    "location_stats = df['location'].value_counts()\n",
    "location_less_than_10 = location_stats[location_stats <= 10]\n",
    "df['location'] = df['location'].apply(lambda x: 'other' if x in location_less_than_10 else x)"
   ]
  },
  {
   "cell_type": "code",
   "execution_count": 113,
   "id": "a9f970c1",
   "metadata": {},
   "outputs": [],
   "source": [
    "df['bhk'] = df['size'].apply(lambda x: int(x.split(' ')[0]) if isinstance(x, str) else None)\n",
    "df = df.dropna(subset=['bhk'])"
   ]
  },
  {
   "cell_type": "code",
   "execution_count": 114,
   "id": "192a454e",
   "metadata": {},
   "outputs": [
    {
     "data": {
      "text/html": [
       "<div>\n",
       "<style scoped>\n",
       "    .dataframe tbody tr th:only-of-type {\n",
       "        vertical-align: middle;\n",
       "    }\n",
       "\n",
       "    .dataframe tbody tr th {\n",
       "        vertical-align: top;\n",
       "    }\n",
       "\n",
       "    .dataframe thead th {\n",
       "        text-align: right;\n",
       "    }\n",
       "</style>\n",
       "<table border=\"1\" class=\"dataframe\">\n",
       "  <thead>\n",
       "    <tr style=\"text-align: right;\">\n",
       "      <th></th>\n",
       "      <th>area_type</th>\n",
       "      <th>availability</th>\n",
       "      <th>location</th>\n",
       "      <th>size</th>\n",
       "      <th>society</th>\n",
       "      <th>total_sqft</th>\n",
       "      <th>bath</th>\n",
       "      <th>balcony</th>\n",
       "      <th>price</th>\n",
       "      <th>availability_ready</th>\n",
       "      <th>bhk</th>\n",
       "    </tr>\n",
       "  </thead>\n",
       "  <tbody>\n",
       "    <tr>\n",
       "      <th>0</th>\n",
       "      <td>Super built-up  Area</td>\n",
       "      <td>19-Dec</td>\n",
       "      <td>Electronic City Phase II</td>\n",
       "      <td>2 BHK</td>\n",
       "      <td>Coomee</td>\n",
       "      <td>1056.0</td>\n",
       "      <td>2.0</td>\n",
       "      <td>1.0</td>\n",
       "      <td>39.07</td>\n",
       "      <td>0</td>\n",
       "      <td>2</td>\n",
       "    </tr>\n",
       "    <tr>\n",
       "      <th>1</th>\n",
       "      <td>Plot  Area</td>\n",
       "      <td>Ready To Move</td>\n",
       "      <td>Chikka Tirupathi</td>\n",
       "      <td>4 Bedroom</td>\n",
       "      <td>Theanmp</td>\n",
       "      <td>2600.0</td>\n",
       "      <td>5.0</td>\n",
       "      <td>3.0</td>\n",
       "      <td>120.00</td>\n",
       "      <td>1</td>\n",
       "      <td>4</td>\n",
       "    </tr>\n",
       "    <tr>\n",
       "      <th>3</th>\n",
       "      <td>Super built-up  Area</td>\n",
       "      <td>Ready To Move</td>\n",
       "      <td>Lingadheeranahalli</td>\n",
       "      <td>3 BHK</td>\n",
       "      <td>Soiewre</td>\n",
       "      <td>1521.0</td>\n",
       "      <td>3.0</td>\n",
       "      <td>1.0</td>\n",
       "      <td>95.00</td>\n",
       "      <td>1</td>\n",
       "      <td>3</td>\n",
       "    </tr>\n",
       "    <tr>\n",
       "      <th>5</th>\n",
       "      <td>Super built-up  Area</td>\n",
       "      <td>Ready To Move</td>\n",
       "      <td>Whitefield</td>\n",
       "      <td>2 BHK</td>\n",
       "      <td>DuenaTa</td>\n",
       "      <td>1170.0</td>\n",
       "      <td>2.0</td>\n",
       "      <td>1.0</td>\n",
       "      <td>38.00</td>\n",
       "      <td>1</td>\n",
       "      <td>2</td>\n",
       "    </tr>\n",
       "    <tr>\n",
       "      <th>6</th>\n",
       "      <td>Super built-up  Area</td>\n",
       "      <td>18-May</td>\n",
       "      <td>Old Airport Road</td>\n",
       "      <td>4 BHK</td>\n",
       "      <td>Jaades</td>\n",
       "      <td>2732.0</td>\n",
       "      <td>4.0</td>\n",
       "      <td>2.0</td>\n",
       "      <td>204.00</td>\n",
       "      <td>0</td>\n",
       "      <td>4</td>\n",
       "    </tr>\n",
       "  </tbody>\n",
       "</table>\n",
       "</div>"
      ],
      "text/plain": [
       "              area_type   availability                  location       size  \\\n",
       "0  Super built-up  Area         19-Dec  Electronic City Phase II      2 BHK   \n",
       "1            Plot  Area  Ready To Move          Chikka Tirupathi  4 Bedroom   \n",
       "3  Super built-up  Area  Ready To Move        Lingadheeranahalli      3 BHK   \n",
       "5  Super built-up  Area  Ready To Move                Whitefield      2 BHK   \n",
       "6  Super built-up  Area         18-May          Old Airport Road      4 BHK   \n",
       "\n",
       "   society  total_sqft  bath  balcony   price  availability_ready  bhk  \n",
       "0  Coomee       1056.0   2.0      1.0   39.07                   0    2  \n",
       "1  Theanmp      2600.0   5.0      3.0  120.00                   1    4  \n",
       "3  Soiewre      1521.0   3.0      1.0   95.00                   1    3  \n",
       "5  DuenaTa      1170.0   2.0      1.0   38.00                   1    2  \n",
       "6  Jaades       2732.0   4.0      2.0  204.00                   0    4  "
      ]
     },
     "execution_count": 114,
     "metadata": {},
     "output_type": "execute_result"
    }
   ],
   "source": [
    "df.head()"
   ]
  },
  {
   "cell_type": "code",
   "execution_count": 115,
   "id": "0e781a8b",
   "metadata": {},
   "outputs": [
    {
     "data": {
      "text/plain": [
       "array(['Electronic City Phase II', 'Chikka Tirupathi',\n",
       "       'Lingadheeranahalli', 'Whitefield', 'Old Airport Road',\n",
       "       'Rajaji Nagar', '7th Phase JP Nagar', 'Sarjapur', 'Mysore Road',\n",
       "       'Bisuvanahalli', 'Raja Rajeshwari Nagar', 'other', 'Binny Pete',\n",
       "       'Thanisandra', 'Electronic City', 'Ramagondanahalli', 'Yelahanka',\n",
       "       'Hebbal', 'Kanakpura Road', 'Kundalahalli', 'Sarjapur  Road',\n",
       "       'Doddathoguru', 'Bhoganhalli', 'Lakshminarayana Pura',\n",
       "       'Begur Road', 'Devanahalli', 'Varthur', 'Gunjur', 'Hegde Nagar',\n",
       "       'Haralur Road', 'Hennur Road', 'EPIP Zone', 'Dasanapura',\n",
       "       'Kasavanhalli', 'Kengeri', 'Yeshwanthpur', 'Chandapura',\n",
       "       'Kothanur', 'Akshaya Nagar', 'Hormavu', 'Kudlu Gate',\n",
       "       '8th Phase JP Nagar', 'Anandapura', 'Kengeri Satellite Town',\n",
       "       'Kannamangala', 'Hulimavu', 'Hosa Road', 'Attibele',\n",
       "       'CV Raman Nagar', 'Malleshwaram', 'Hebbal Kempapura',\n",
       "       'Vijayanagar', 'KR Puram', 'Marathahalli', 'Pattandur Agrahara',\n",
       "       'HSR Layout', 'Kadugodi', 'Panathur', 'Kammasandra',\n",
       "       'Electronics City Phase 1', 'Dasarahalli', 'Koramangala',\n",
       "       'Budigere', 'Kalyan nagar', 'Ambedkar Nagar', 'Kalena Agrahara',\n",
       "       'Talaghattapura', 'Balagere', 'Jigani', 'Gollarapalya Hosahalli',\n",
       "       'Old Madras Road', '9th Phase JP Nagar', 'Jakkur', 'AECS Layout',\n",
       "       'Mallasandra', 'Begur', 'JP Nagar', 'Kaggalipura',\n",
       "       '6th Phase JP Nagar', 'Uttarahalli', 'Thigalarapalya',\n",
       "       'Bommasandra', 'Ardendale', 'Harlur', 'Kodihalli', 'Magadi Road',\n",
       "       'Hennur', '5th Phase JP Nagar', 'Bannerghatta Road',\n",
       "       'Billekahalli', 'Jalahalli', 'Mahadevpura', 'Dodda Nekkundi',\n",
       "       'Hosur Road', 'Ambalipura', 'Hoodi', 'Brookefield', 'Bellandur',\n",
       "       'Vittasandra', 'Subramanyapura', 'Kambipura', 'Rajiv Nagar',\n",
       "       'Munnekollal', 'Nehru Nagar', 'Gottigere', 'Kanakapura',\n",
       "       'Tumkur Road', 'Hosakerehalli', 'Kaggadasapura', 'Abbigere',\n",
       "       'Gubbalala', 'Kudlu', 'Battarahalli', 'Yelahanka New Town',\n",
       "       'Sahakara Nagar', 'Rachenahalli', 'Kodichikkanahalli',\n",
       "       'Green Glen Layout', '1st Phase JP Nagar', 'Somasundara Palya',\n",
       "       'Iblur Village', 'Channasandra', 'Choodasandra', 'Indira Nagar',\n",
       "       'Neeladri Nagar', 'Frazer Town', 'Banashankari',\n",
       "       'Ramamurthy Nagar', 'Sonnenahalli', 'Nagarbhavi', 'Bommanahalli',\n",
       "       'Karuna Nagar', 'Parappana Agrahara', 'Marsur', 'Bommenahalli',\n",
       "       'Prithvi Layout', 'Domlur', 'Thubarahalli', 'Sector 2 HSR Layout',\n",
       "       'Padmanabhanagar', 'Badavala Nagar', 'Kereguddadahalli', 'Hoskote',\n",
       "       'BTM 2nd Stage', 'Seegehalli', 'Bharathi Nagar', 'Horamavu Agara',\n",
       "       'Nagavarapalya', 'Kenchenahalli'], dtype=object)"
      ]
     },
     "execution_count": 115,
     "metadata": {},
     "output_type": "execute_result"
    }
   ],
   "source": [
    "df['location'].unique()"
   ]
  },
  {
   "cell_type": "code",
   "execution_count": 116,
   "id": "379237a3",
   "metadata": {},
   "outputs": [
    {
     "data": {
      "text/plain": [
       "array(['Super built-up  Area', 'Plot  Area', 'Built-up  Area',\n",
       "       'Carpet  Area'], dtype=object)"
      ]
     },
     "execution_count": 116,
     "metadata": {},
     "output_type": "execute_result"
    }
   ],
   "source": [
    "df['area_type'].unique()"
   ]
  },
  {
   "cell_type": "code",
   "execution_count": 117,
   "id": "5df833bb",
   "metadata": {},
   "outputs": [],
   "source": [
    "df = pd.get_dummies(df, columns=['area_type', 'location'], dtype='int' ,drop_first=True)\n"
   ]
  },
  {
   "cell_type": "code",
   "execution_count": 118,
   "id": "e52d0480",
   "metadata": {},
   "outputs": [
    {
     "data": {
      "text/html": [
       "<div>\n",
       "<style scoped>\n",
       "    .dataframe tbody tr th:only-of-type {\n",
       "        vertical-align: middle;\n",
       "    }\n",
       "\n",
       "    .dataframe tbody tr th {\n",
       "        vertical-align: top;\n",
       "    }\n",
       "\n",
       "    .dataframe thead th {\n",
       "        text-align: right;\n",
       "    }\n",
       "</style>\n",
       "<table border=\"1\" class=\"dataframe\">\n",
       "  <thead>\n",
       "    <tr style=\"text-align: right;\">\n",
       "      <th></th>\n",
       "      <th>availability</th>\n",
       "      <th>size</th>\n",
       "      <th>society</th>\n",
       "      <th>total_sqft</th>\n",
       "      <th>bath</th>\n",
       "      <th>balcony</th>\n",
       "      <th>price</th>\n",
       "      <th>availability_ready</th>\n",
       "      <th>bhk</th>\n",
       "      <th>area_type_Carpet  Area</th>\n",
       "      <th>...</th>\n",
       "      <th>location_Tumkur Road</th>\n",
       "      <th>location_Uttarahalli</th>\n",
       "      <th>location_Varthur</th>\n",
       "      <th>location_Vijayanagar</th>\n",
       "      <th>location_Vittasandra</th>\n",
       "      <th>location_Whitefield</th>\n",
       "      <th>location_Yelahanka</th>\n",
       "      <th>location_Yelahanka New Town</th>\n",
       "      <th>location_Yeshwanthpur</th>\n",
       "      <th>location_other</th>\n",
       "    </tr>\n",
       "  </thead>\n",
       "  <tbody>\n",
       "    <tr>\n",
       "      <th>0</th>\n",
       "      <td>19-Dec</td>\n",
       "      <td>2 BHK</td>\n",
       "      <td>Coomee</td>\n",
       "      <td>1056.0</td>\n",
       "      <td>2.0</td>\n",
       "      <td>1.0</td>\n",
       "      <td>39.07</td>\n",
       "      <td>0</td>\n",
       "      <td>2</td>\n",
       "      <td>0</td>\n",
       "      <td>...</td>\n",
       "      <td>0</td>\n",
       "      <td>0</td>\n",
       "      <td>0</td>\n",
       "      <td>0</td>\n",
       "      <td>0</td>\n",
       "      <td>0</td>\n",
       "      <td>0</td>\n",
       "      <td>0</td>\n",
       "      <td>0</td>\n",
       "      <td>0</td>\n",
       "    </tr>\n",
       "    <tr>\n",
       "      <th>1</th>\n",
       "      <td>Ready To Move</td>\n",
       "      <td>4 Bedroom</td>\n",
       "      <td>Theanmp</td>\n",
       "      <td>2600.0</td>\n",
       "      <td>5.0</td>\n",
       "      <td>3.0</td>\n",
       "      <td>120.00</td>\n",
       "      <td>1</td>\n",
       "      <td>4</td>\n",
       "      <td>0</td>\n",
       "      <td>...</td>\n",
       "      <td>0</td>\n",
       "      <td>0</td>\n",
       "      <td>0</td>\n",
       "      <td>0</td>\n",
       "      <td>0</td>\n",
       "      <td>0</td>\n",
       "      <td>0</td>\n",
       "      <td>0</td>\n",
       "      <td>0</td>\n",
       "      <td>0</td>\n",
       "    </tr>\n",
       "    <tr>\n",
       "      <th>3</th>\n",
       "      <td>Ready To Move</td>\n",
       "      <td>3 BHK</td>\n",
       "      <td>Soiewre</td>\n",
       "      <td>1521.0</td>\n",
       "      <td>3.0</td>\n",
       "      <td>1.0</td>\n",
       "      <td>95.00</td>\n",
       "      <td>1</td>\n",
       "      <td>3</td>\n",
       "      <td>0</td>\n",
       "      <td>...</td>\n",
       "      <td>0</td>\n",
       "      <td>0</td>\n",
       "      <td>0</td>\n",
       "      <td>0</td>\n",
       "      <td>0</td>\n",
       "      <td>0</td>\n",
       "      <td>0</td>\n",
       "      <td>0</td>\n",
       "      <td>0</td>\n",
       "      <td>0</td>\n",
       "    </tr>\n",
       "    <tr>\n",
       "      <th>5</th>\n",
       "      <td>Ready To Move</td>\n",
       "      <td>2 BHK</td>\n",
       "      <td>DuenaTa</td>\n",
       "      <td>1170.0</td>\n",
       "      <td>2.0</td>\n",
       "      <td>1.0</td>\n",
       "      <td>38.00</td>\n",
       "      <td>1</td>\n",
       "      <td>2</td>\n",
       "      <td>0</td>\n",
       "      <td>...</td>\n",
       "      <td>0</td>\n",
       "      <td>0</td>\n",
       "      <td>0</td>\n",
       "      <td>0</td>\n",
       "      <td>0</td>\n",
       "      <td>1</td>\n",
       "      <td>0</td>\n",
       "      <td>0</td>\n",
       "      <td>0</td>\n",
       "      <td>0</td>\n",
       "    </tr>\n",
       "    <tr>\n",
       "      <th>6</th>\n",
       "      <td>18-May</td>\n",
       "      <td>4 BHK</td>\n",
       "      <td>Jaades</td>\n",
       "      <td>2732.0</td>\n",
       "      <td>4.0</td>\n",
       "      <td>2.0</td>\n",
       "      <td>204.00</td>\n",
       "      <td>0</td>\n",
       "      <td>4</td>\n",
       "      <td>0</td>\n",
       "      <td>...</td>\n",
       "      <td>0</td>\n",
       "      <td>0</td>\n",
       "      <td>0</td>\n",
       "      <td>0</td>\n",
       "      <td>0</td>\n",
       "      <td>0</td>\n",
       "      <td>0</td>\n",
       "      <td>0</td>\n",
       "      <td>0</td>\n",
       "      <td>0</td>\n",
       "    </tr>\n",
       "  </tbody>\n",
       "</table>\n",
       "<p>5 rows × 160 columns</p>\n",
       "</div>"
      ],
      "text/plain": [
       "    availability       size  society  total_sqft  bath  balcony   price  \\\n",
       "0         19-Dec      2 BHK  Coomee       1056.0   2.0      1.0   39.07   \n",
       "1  Ready To Move  4 Bedroom  Theanmp      2600.0   5.0      3.0  120.00   \n",
       "3  Ready To Move      3 BHK  Soiewre      1521.0   3.0      1.0   95.00   \n",
       "5  Ready To Move      2 BHK  DuenaTa      1170.0   2.0      1.0   38.00   \n",
       "6         18-May      4 BHK  Jaades       2732.0   4.0      2.0  204.00   \n",
       "\n",
       "   availability_ready  bhk  area_type_Carpet  Area  ...  location_Tumkur Road  \\\n",
       "0                   0    2                       0  ...                     0   \n",
       "1                   1    4                       0  ...                     0   \n",
       "3                   1    3                       0  ...                     0   \n",
       "5                   1    2                       0  ...                     0   \n",
       "6                   0    4                       0  ...                     0   \n",
       "\n",
       "   location_Uttarahalli  location_Varthur  location_Vijayanagar  \\\n",
       "0                     0                 0                     0   \n",
       "1                     0                 0                     0   \n",
       "3                     0                 0                     0   \n",
       "5                     0                 0                     0   \n",
       "6                     0                 0                     0   \n",
       "\n",
       "   location_Vittasandra  location_Whitefield  location_Yelahanka  \\\n",
       "0                     0                    0                   0   \n",
       "1                     0                    0                   0   \n",
       "3                     0                    0                   0   \n",
       "5                     0                    1                   0   \n",
       "6                     0                    0                   0   \n",
       "\n",
       "   location_Yelahanka New Town  location_Yeshwanthpur  location_other  \n",
       "0                            0                      0               0  \n",
       "1                            0                      0               0  \n",
       "3                            0                      0               0  \n",
       "5                            0                      0               0  \n",
       "6                            0                      0               0  \n",
       "\n",
       "[5 rows x 160 columns]"
      ]
     },
     "execution_count": 118,
     "metadata": {},
     "output_type": "execute_result"
    }
   ],
   "source": [
    "df.head()"
   ]
  },
  {
   "cell_type": "code",
   "execution_count": 119,
   "id": "8f152953",
   "metadata": {},
   "outputs": [],
   "source": [
    "df = df.drop(['availability', 'size', 'society'], axis=1)\n"
   ]
  },
  {
   "cell_type": "code",
   "execution_count": 120,
   "id": "0116660a",
   "metadata": {},
   "outputs": [
    {
     "data": {
      "text/plain": [
       "Index(['total_sqft', 'bath', 'balcony', 'price', 'availability_ready', 'bhk',\n",
       "       'area_type_Carpet  Area', 'area_type_Plot  Area',\n",
       "       'area_type_Super built-up  Area', 'location_5th Phase JP Nagar',\n",
       "       ...\n",
       "       'location_Tumkur Road', 'location_Uttarahalli', 'location_Varthur',\n",
       "       'location_Vijayanagar', 'location_Vittasandra', 'location_Whitefield',\n",
       "       'location_Yelahanka', 'location_Yelahanka New Town',\n",
       "       'location_Yeshwanthpur', 'location_other'],\n",
       "      dtype='object', length=157)"
      ]
     },
     "execution_count": 120,
     "metadata": {},
     "output_type": "execute_result"
    }
   ],
   "source": [
    "df.columns"
   ]
  },
  {
   "cell_type": "code",
   "execution_count": 121,
   "id": "52dd6aea",
   "metadata": {},
   "outputs": [
    {
     "data": {
      "text/html": [
       "<div>\n",
       "<style scoped>\n",
       "    .dataframe tbody tr th:only-of-type {\n",
       "        vertical-align: middle;\n",
       "    }\n",
       "\n",
       "    .dataframe tbody tr th {\n",
       "        vertical-align: top;\n",
       "    }\n",
       "\n",
       "    .dataframe thead th {\n",
       "        text-align: right;\n",
       "    }\n",
       "</style>\n",
       "<table border=\"1\" class=\"dataframe\">\n",
       "  <thead>\n",
       "    <tr style=\"text-align: right;\">\n",
       "      <th></th>\n",
       "      <th>total_sqft</th>\n",
       "      <th>bath</th>\n",
       "      <th>balcony</th>\n",
       "      <th>price</th>\n",
       "      <th>availability_ready</th>\n",
       "      <th>bhk</th>\n",
       "      <th>area_type_Carpet  Area</th>\n",
       "      <th>area_type_Plot  Area</th>\n",
       "      <th>area_type_Super built-up  Area</th>\n",
       "      <th>location_5th Phase JP Nagar</th>\n",
       "      <th>...</th>\n",
       "      <th>location_Tumkur Road</th>\n",
       "      <th>location_Uttarahalli</th>\n",
       "      <th>location_Varthur</th>\n",
       "      <th>location_Vijayanagar</th>\n",
       "      <th>location_Vittasandra</th>\n",
       "      <th>location_Whitefield</th>\n",
       "      <th>location_Yelahanka</th>\n",
       "      <th>location_Yelahanka New Town</th>\n",
       "      <th>location_Yeshwanthpur</th>\n",
       "      <th>location_other</th>\n",
       "    </tr>\n",
       "  </thead>\n",
       "  <tbody>\n",
       "    <tr>\n",
       "      <th>0</th>\n",
       "      <td>1056.0</td>\n",
       "      <td>2.0</td>\n",
       "      <td>1.0</td>\n",
       "      <td>39.07</td>\n",
       "      <td>0</td>\n",
       "      <td>2</td>\n",
       "      <td>0</td>\n",
       "      <td>0</td>\n",
       "      <td>1</td>\n",
       "      <td>0</td>\n",
       "      <td>...</td>\n",
       "      <td>0</td>\n",
       "      <td>0</td>\n",
       "      <td>0</td>\n",
       "      <td>0</td>\n",
       "      <td>0</td>\n",
       "      <td>0</td>\n",
       "      <td>0</td>\n",
       "      <td>0</td>\n",
       "      <td>0</td>\n",
       "      <td>0</td>\n",
       "    </tr>\n",
       "    <tr>\n",
       "      <th>1</th>\n",
       "      <td>2600.0</td>\n",
       "      <td>5.0</td>\n",
       "      <td>3.0</td>\n",
       "      <td>120.00</td>\n",
       "      <td>1</td>\n",
       "      <td>4</td>\n",
       "      <td>0</td>\n",
       "      <td>1</td>\n",
       "      <td>0</td>\n",
       "      <td>0</td>\n",
       "      <td>...</td>\n",
       "      <td>0</td>\n",
       "      <td>0</td>\n",
       "      <td>0</td>\n",
       "      <td>0</td>\n",
       "      <td>0</td>\n",
       "      <td>0</td>\n",
       "      <td>0</td>\n",
       "      <td>0</td>\n",
       "      <td>0</td>\n",
       "      <td>0</td>\n",
       "    </tr>\n",
       "    <tr>\n",
       "      <th>3</th>\n",
       "      <td>1521.0</td>\n",
       "      <td>3.0</td>\n",
       "      <td>1.0</td>\n",
       "      <td>95.00</td>\n",
       "      <td>1</td>\n",
       "      <td>3</td>\n",
       "      <td>0</td>\n",
       "      <td>0</td>\n",
       "      <td>1</td>\n",
       "      <td>0</td>\n",
       "      <td>...</td>\n",
       "      <td>0</td>\n",
       "      <td>0</td>\n",
       "      <td>0</td>\n",
       "      <td>0</td>\n",
       "      <td>0</td>\n",
       "      <td>0</td>\n",
       "      <td>0</td>\n",
       "      <td>0</td>\n",
       "      <td>0</td>\n",
       "      <td>0</td>\n",
       "    </tr>\n",
       "    <tr>\n",
       "      <th>5</th>\n",
       "      <td>1170.0</td>\n",
       "      <td>2.0</td>\n",
       "      <td>1.0</td>\n",
       "      <td>38.00</td>\n",
       "      <td>1</td>\n",
       "      <td>2</td>\n",
       "      <td>0</td>\n",
       "      <td>0</td>\n",
       "      <td>1</td>\n",
       "      <td>0</td>\n",
       "      <td>...</td>\n",
       "      <td>0</td>\n",
       "      <td>0</td>\n",
       "      <td>0</td>\n",
       "      <td>0</td>\n",
       "      <td>0</td>\n",
       "      <td>1</td>\n",
       "      <td>0</td>\n",
       "      <td>0</td>\n",
       "      <td>0</td>\n",
       "      <td>0</td>\n",
       "    </tr>\n",
       "    <tr>\n",
       "      <th>6</th>\n",
       "      <td>2732.0</td>\n",
       "      <td>4.0</td>\n",
       "      <td>2.0</td>\n",
       "      <td>204.00</td>\n",
       "      <td>0</td>\n",
       "      <td>4</td>\n",
       "      <td>0</td>\n",
       "      <td>0</td>\n",
       "      <td>1</td>\n",
       "      <td>0</td>\n",
       "      <td>...</td>\n",
       "      <td>0</td>\n",
       "      <td>0</td>\n",
       "      <td>0</td>\n",
       "      <td>0</td>\n",
       "      <td>0</td>\n",
       "      <td>0</td>\n",
       "      <td>0</td>\n",
       "      <td>0</td>\n",
       "      <td>0</td>\n",
       "      <td>0</td>\n",
       "    </tr>\n",
       "  </tbody>\n",
       "</table>\n",
       "<p>5 rows × 157 columns</p>\n",
       "</div>"
      ],
      "text/plain": [
       "   total_sqft  bath  balcony   price  availability_ready  bhk  \\\n",
       "0      1056.0   2.0      1.0   39.07                   0    2   \n",
       "1      2600.0   5.0      3.0  120.00                   1    4   \n",
       "3      1521.0   3.0      1.0   95.00                   1    3   \n",
       "5      1170.0   2.0      1.0   38.00                   1    2   \n",
       "6      2732.0   4.0      2.0  204.00                   0    4   \n",
       "\n",
       "   area_type_Carpet  Area  area_type_Plot  Area  \\\n",
       "0                       0                     0   \n",
       "1                       0                     1   \n",
       "3                       0                     0   \n",
       "5                       0                     0   \n",
       "6                       0                     0   \n",
       "\n",
       "   area_type_Super built-up  Area  location_5th Phase JP Nagar  ...  \\\n",
       "0                               1                            0  ...   \n",
       "1                               0                            0  ...   \n",
       "3                               1                            0  ...   \n",
       "5                               1                            0  ...   \n",
       "6                               1                            0  ...   \n",
       "\n",
       "   location_Tumkur Road  location_Uttarahalli  location_Varthur  \\\n",
       "0                     0                     0                 0   \n",
       "1                     0                     0                 0   \n",
       "3                     0                     0                 0   \n",
       "5                     0                     0                 0   \n",
       "6                     0                     0                 0   \n",
       "\n",
       "   location_Vijayanagar  location_Vittasandra  location_Whitefield  \\\n",
       "0                     0                     0                    0   \n",
       "1                     0                     0                    0   \n",
       "3                     0                     0                    0   \n",
       "5                     0                     0                    1   \n",
       "6                     0                     0                    0   \n",
       "\n",
       "   location_Yelahanka  location_Yelahanka New Town  location_Yeshwanthpur  \\\n",
       "0                   0                            0                      0   \n",
       "1                   0                            0                      0   \n",
       "3                   0                            0                      0   \n",
       "5                   0                            0                      0   \n",
       "6                   0                            0                      0   \n",
       "\n",
       "   location_other  \n",
       "0               0  \n",
       "1               0  \n",
       "3               0  \n",
       "5               0  \n",
       "6               0  \n",
       "\n",
       "[5 rows x 157 columns]"
      ]
     },
     "execution_count": 121,
     "metadata": {},
     "output_type": "execute_result"
    }
   ],
   "source": [
    "df.head()"
   ]
  },
  {
   "cell_type": "code",
   "execution_count": 122,
   "id": "cc9336f1",
   "metadata": {},
   "outputs": [
    {
     "name": "stdout",
     "output_type": "stream",
     "text": [
      "<class 'pandas.core.frame.DataFrame'>\n",
      "Index: 7804 entries, 0 to 13318\n",
      "Columns: 157 entries, total_sqft to location_other\n",
      "dtypes: float64(4), int32(151), int64(2)\n",
      "memory usage: 4.9 MB\n"
     ]
    }
   ],
   "source": [
    "df.info()"
   ]
  },
  {
   "cell_type": "code",
   "execution_count": null,
   "id": "24329e8a",
   "metadata": {},
   "outputs": [],
   "source": []
  },
  {
   "cell_type": "code",
   "execution_count": null,
   "id": "17505bb4",
   "metadata": {},
   "outputs": [],
   "source": []
  },
  {
   "cell_type": "code",
   "execution_count": null,
   "id": "a5d1f966",
   "metadata": {},
   "outputs": [],
   "source": []
  },
  {
   "cell_type": "code",
   "execution_count": null,
   "id": "eaecd619",
   "metadata": {},
   "outputs": [],
   "source": []
  },
  {
   "cell_type": "code",
   "execution_count": null,
   "id": "be644e11",
   "metadata": {},
   "outputs": [],
   "source": []
  },
  {
   "cell_type": "code",
   "execution_count": null,
   "id": "35b26e6c",
   "metadata": {},
   "outputs": [],
   "source": []
  },
  {
   "cell_type": "code",
   "execution_count": null,
   "id": "62125110",
   "metadata": {},
   "outputs": [],
   "source": []
  },
  {
   "cell_type": "code",
   "execution_count": null,
   "id": "d67d7d0f",
   "metadata": {},
   "outputs": [
    {
     "name": "stdout",
     "output_type": "stream",
     "text": [
      "--- Linear Regression Model Evaluation (with Standardization) ---\n",
      "Mean Squared Error (MSE): 9706.52\n",
      "Root Mean Squared Error (RMSE): 98.52\n",
      "Mean Absolute Error (MAE): 40.58\n",
      "R-squared (R2): 0.42\n"
     ]
    }
   ],
   "source": [
    "from sklearn.model_selection import train_test_split\n",
    "from sklearn.linear_model import LinearRegression\n",
    "from sklearn.preprocessing import StandardScaler\n",
    "from sklearn.metrics import mean_squared_error, r2_score, mean_absolute_error\n",
    "X = df.drop(['price'], axis='columns')\n",
    "y = df['price']\n",
    "\n",
    "# Split the data into training and testing sets\n",
    "X_train, X_test, y_train, y_test = train_test_split(X, y, test_size=0.30, random_state=42)\n",
    "\n",
    "\n",
    "# Standardize the features\n",
    "scaler = StandardScaler()\n",
    "X_train_scaled = scaler.fit_transform(X_train)\n",
    "X_test_scaled = scaler.transform(X_test)\n",
    "\n",
    "# Initialize and train the Linear Regression model on scaled data\n",
    "model = LinearRegression()\n",
    "model.fit(X_train_scaled, y_train)\n",
    "\n",
    "# Make predictions on the scaled test set\n",
    "y_pred = model.predict(X_test_scaled)\n",
    "\n",
    "# Evaluate the model\n",
    "mse = mean_squared_error(y_test, y_pred)\n",
    "rmse = np.sqrt(mse)\n",
    "mae = mean_absolute_error(y_test, y_pred)\n",
    "r2 = r2_score(y_test, y_pred)\n",
    "\n",
    "print(f\"--- Linear Regression Model Evaluation---\")\n",
    "print(f\"Mean Squared Error (MSE): {mse:.2f}\")\n",
    "print(f\"Root Mean Squared Error (RMSE): {rmse:.2f}\")\n",
    "print(f\"Mean Absolute Error (MAE): {mae:.2f}\")\n",
    "print(f\"R-squared (R2): {r2:.2f}\") "
   ]
  },
  {
   "cell_type": "code",
   "execution_count": null,
   "id": "b0e13911",
   "metadata": {},
   "outputs": [],
   "source": []
  }
 ],
 "metadata": {
  "kernelspec": {
   "display_name": "base",
   "language": "python",
   "name": "python3"
  },
  "language_info": {
   "codemirror_mode": {
    "name": "ipython",
    "version": 3
   },
   "file_extension": ".py",
   "mimetype": "text/x-python",
   "name": "python",
   "nbconvert_exporter": "python",
   "pygments_lexer": "ipython3",
   "version": "3.12.7"
  }
 },
 "nbformat": 4,
 "nbformat_minor": 5
}
